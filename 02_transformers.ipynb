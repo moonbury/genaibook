{
  "cells": [
    {
      "cell_type": "markdown",
      "metadata": {
        "id": "view-in-github",
        "colab_type": "text"
      },
      "source": [
        "<a href=\"https://colab.research.google.com/github/moonbury/genaibook/blob/main/02_transformers.ipynb\" target=\"_parent\"><img src=\"https://colab.research.google.com/assets/colab-badge.svg\" alt=\"Open In Colab\"/></a>"
      ]
    },
    {
      "cell_type": "markdown",
      "metadata": {
        "id": "0kfidUWHZYUs"
      },
      "source": [
        "# Transformers"
      ]
    },
    {
      "cell_type": "markdown",
      "metadata": {
        "id": "dTtwcn6kZYUt"
      },
      "source": [
        "This notebook is a supplement to the Transformers Chapter of the [Hands-On Generative AI with Transformers and Diffusion Models](https://learning.oreilly.com/library/view/hands-on-generative-ai/9781098149239/) book. This notebooks includes:\n",
        "\n",
        "* The code from the book\n",
        "* Additional examples\n",
        "* Exercise solutions."
      ]
    },
    {
      "cell_type": "code",
      "execution_count": 1,
      "metadata": {
        "id": "Jiq6EQrjZYUu",
        "outputId": "7341c1ef-d82e-403f-a70a-df5df4bddb2d",
        "colab": {
          "base_uri": "https://localhost:8080/"
        }
      },
      "outputs": [
        {
          "output_type": "stream",
          "name": "stdout",
          "text": [
            "Collecting genaibook\n",
            "  Downloading genaibook-0.1.1-py3-none-any.whl.metadata (3.6 kB)\n",
            "Requirement already satisfied: accelerate in /usr/local/lib/python3.10/dist-packages (from genaibook) (1.1.1)\n",
            "Requirement already satisfied: sentencepiece in /usr/local/lib/python3.10/dist-packages (from genaibook) (0.2.0)\n",
            "Requirement already satisfied: fastcore in /usr/local/lib/python3.10/dist-packages (from genaibook) (1.7.20)\n",
            "Requirement already satisfied: pandas in /usr/local/lib/python3.10/dist-packages (from genaibook) (2.2.2)\n",
            "Requirement already satisfied: torch in /usr/local/lib/python3.10/dist-packages (from genaibook) (2.5.1+cu121)\n",
            "Requirement already satisfied: torchvision in /usr/local/lib/python3.10/dist-packages (from genaibook) (0.20.1+cu121)\n",
            "Requirement already satisfied: torchaudio in /usr/local/lib/python3.10/dist-packages (from genaibook) (2.5.1+cu121)\n",
            "Requirement already satisfied: torchsummary in /usr/local/lib/python3.10/dist-packages (from genaibook) (1.5.1)\n",
            "Requirement already satisfied: pillow in /usr/local/lib/python3.10/dist-packages (from genaibook) (11.0.0)\n",
            "Requirement already satisfied: matplotlib in /usr/local/lib/python3.10/dist-packages (from genaibook) (3.8.0)\n",
            "Requirement already satisfied: numpy in /usr/local/lib/python3.10/dist-packages (from genaibook) (1.26.4)\n",
            "Requirement already satisfied: scipy in /usr/local/lib/python3.10/dist-packages (from genaibook) (1.13.1)\n",
            "Requirement already satisfied: librosa in /usr/local/lib/python3.10/dist-packages (from genaibook) (0.10.2.post1)\n",
            "Requirement already satisfied: diffusers in /usr/local/lib/python3.10/dist-packages (from genaibook) (0.31.0)\n",
            "Requirement already satisfied: transformers in /usr/local/lib/python3.10/dist-packages (from genaibook) (4.46.2)\n",
            "Requirement already satisfied: sentence-transformers in /usr/local/lib/python3.10/dist-packages (from genaibook) (3.2.1)\n",
            "Collecting bitsandbytes (from genaibook)\n",
            "  Downloading bitsandbytes-0.44.1-py3-none-manylinux_2_24_x86_64.whl.metadata (3.5 kB)\n",
            "Collecting datasets[audio] (from genaibook)\n",
            "  Downloading datasets-3.1.0-py3-none-any.whl.metadata (20 kB)\n",
            "Collecting jiwer (from genaibook)\n",
            "  Downloading jiwer-3.0.5-py3-none-any.whl.metadata (2.7 kB)\n",
            "Collecting evaluate (from genaibook)\n",
            "  Downloading evaluate-0.4.3-py3-none-any.whl.metadata (9.2 kB)\n",
            "Collecting pydub (from genaibook)\n",
            "  Downloading pydub-0.25.1-py2.py3-none-any.whl.metadata (1.4 kB)\n",
            "Collecting compel (from genaibook)\n",
            "  Downloading compel-2.0.3-py3-none-any.whl.metadata (12 kB)\n",
            "Collecting mediapipe (from genaibook)\n",
            "  Downloading mediapipe-0.10.18-cp310-cp310-manylinux_2_17_x86_64.manylinux2014_x86_64.whl.metadata (9.7 kB)\n",
            "Collecting controlnet-aux (from genaibook)\n",
            "  Downloading controlnet_aux-0.0.9-py3-none-any.whl.metadata (6.5 kB)\n",
            "Requirement already satisfied: peft in /usr/local/lib/python3.10/dist-packages (from genaibook) (0.13.2)\n",
            "Requirement already satisfied: huggingface-hub>=0.21.0 in /usr/local/lib/python3.10/dist-packages (from accelerate->genaibook) (0.26.2)\n",
            "Requirement already satisfied: packaging>=20.0 in /usr/local/lib/python3.10/dist-packages (from accelerate->genaibook) (24.2)\n",
            "Requirement already satisfied: psutil in /usr/local/lib/python3.10/dist-packages (from accelerate->genaibook) (5.9.5)\n",
            "Requirement already satisfied: pyyaml in /usr/local/lib/python3.10/dist-packages (from accelerate->genaibook) (6.0.2)\n",
            "Requirement already satisfied: safetensors>=0.4.3 in /usr/local/lib/python3.10/dist-packages (from accelerate->genaibook) (0.4.5)\n",
            "Requirement already satisfied: filelock in /usr/local/lib/python3.10/dist-packages (from torch->genaibook) (3.16.1)\n",
            "Requirement already satisfied: typing-extensions>=4.8.0 in /usr/local/lib/python3.10/dist-packages (from torch->genaibook) (4.12.2)\n",
            "Requirement already satisfied: networkx in /usr/local/lib/python3.10/dist-packages (from torch->genaibook) (3.4.2)\n",
            "Requirement already satisfied: jinja2 in /usr/local/lib/python3.10/dist-packages (from torch->genaibook) (3.1.4)\n",
            "Requirement already satisfied: fsspec in /usr/local/lib/python3.10/dist-packages (from torch->genaibook) (2024.10.0)\n",
            "Requirement already satisfied: sympy==1.13.1 in /usr/local/lib/python3.10/dist-packages (from torch->genaibook) (1.13.1)\n",
            "Requirement already satisfied: mpmath<1.4,>=1.1.0 in /usr/local/lib/python3.10/dist-packages (from sympy==1.13.1->torch->genaibook) (1.3.0)\n",
            "Requirement already satisfied: pyparsing~=3.0 in /usr/local/lib/python3.10/dist-packages (from compel->genaibook) (3.2.0)\n",
            "Requirement already satisfied: importlib-metadata in /usr/local/lib/python3.10/dist-packages (from diffusers->genaibook) (8.5.0)\n",
            "Requirement already satisfied: regex!=2019.12.17 in /usr/local/lib/python3.10/dist-packages (from diffusers->genaibook) (2024.9.11)\n",
            "Requirement already satisfied: requests in /usr/local/lib/python3.10/dist-packages (from diffusers->genaibook) (2.32.3)\n",
            "Requirement already satisfied: tokenizers<0.21,>=0.20 in /usr/local/lib/python3.10/dist-packages (from transformers->genaibook) (0.20.3)\n",
            "Requirement already satisfied: tqdm>=4.27 in /usr/local/lib/python3.10/dist-packages (from transformers->genaibook) (4.66.6)\n",
            "Requirement already satisfied: opencv-python-headless in /usr/local/lib/python3.10/dist-packages (from controlnet-aux->genaibook) (4.10.0.84)\n",
            "Requirement already satisfied: einops in /usr/local/lib/python3.10/dist-packages (from controlnet-aux->genaibook) (0.8.0)\n",
            "Collecting timm<=0.6.7 (from controlnet-aux->genaibook)\n",
            "  Downloading timm-0.6.7-py3-none-any.whl.metadata (33 kB)\n",
            "Requirement already satisfied: scikit-image in /usr/local/lib/python3.10/dist-packages (from controlnet-aux->genaibook) (0.24.0)\n",
            "Requirement already satisfied: pyarrow>=15.0.0 in /usr/local/lib/python3.10/dist-packages (from datasets[audio]->genaibook) (17.0.0)\n",
            "Collecting dill<0.3.9,>=0.3.0 (from datasets[audio]->genaibook)\n",
            "  Downloading dill-0.3.8-py3-none-any.whl.metadata (10 kB)\n",
            "Collecting xxhash (from datasets[audio]->genaibook)\n",
            "  Downloading xxhash-3.5.0-cp310-cp310-manylinux_2_17_x86_64.manylinux2014_x86_64.whl.metadata (12 kB)\n",
            "Collecting multiprocess<0.70.17 (from datasets[audio]->genaibook)\n",
            "  Downloading multiprocess-0.70.16-py310-none-any.whl.metadata (7.2 kB)\n",
            "Collecting fsspec (from torch->genaibook)\n",
            "  Downloading fsspec-2024.9.0-py3-none-any.whl.metadata (11 kB)\n",
            "Requirement already satisfied: aiohttp in /usr/local/lib/python3.10/dist-packages (from datasets[audio]->genaibook) (3.11.2)\n",
            "Requirement already satisfied: soundfile>=0.12.1 in /usr/local/lib/python3.10/dist-packages (from datasets[audio]->genaibook) (0.12.1)\n",
            "Requirement already satisfied: soxr>=0.4.0 in /usr/local/lib/python3.10/dist-packages (from datasets[audio]->genaibook) (0.5.0.post1)\n",
            "Requirement already satisfied: click<9.0.0,>=8.1.3 in /usr/local/lib/python3.10/dist-packages (from jiwer->genaibook) (8.1.7)\n",
            "Collecting rapidfuzz<4,>=3 (from jiwer->genaibook)\n",
            "  Downloading rapidfuzz-3.10.1-cp310-cp310-manylinux_2_17_x86_64.manylinux2014_x86_64.whl.metadata (11 kB)\n",
            "Requirement already satisfied: audioread>=2.1.9 in /usr/local/lib/python3.10/dist-packages (from librosa->genaibook) (3.0.1)\n",
            "Requirement already satisfied: scikit-learn>=0.20.0 in /usr/local/lib/python3.10/dist-packages (from librosa->genaibook) (1.5.2)\n",
            "Requirement already satisfied: joblib>=0.14 in /usr/local/lib/python3.10/dist-packages (from librosa->genaibook) (1.4.2)\n",
            "Requirement already satisfied: decorator>=4.3.0 in /usr/local/lib/python3.10/dist-packages (from librosa->genaibook) (4.4.2)\n",
            "Requirement already satisfied: numba>=0.51.0 in /usr/local/lib/python3.10/dist-packages (from librosa->genaibook) (0.60.0)\n",
            "Requirement already satisfied: pooch>=1.1 in /usr/local/lib/python3.10/dist-packages (from librosa->genaibook) (1.8.2)\n",
            "Requirement already satisfied: lazy-loader>=0.1 in /usr/local/lib/python3.10/dist-packages (from librosa->genaibook) (0.4)\n",
            "Requirement already satisfied: msgpack>=1.0 in /usr/local/lib/python3.10/dist-packages (from librosa->genaibook) (1.1.0)\n",
            "Requirement already satisfied: contourpy>=1.0.1 in /usr/local/lib/python3.10/dist-packages (from matplotlib->genaibook) (1.3.1)\n",
            "Requirement already satisfied: cycler>=0.10 in /usr/local/lib/python3.10/dist-packages (from matplotlib->genaibook) (0.12.1)\n",
            "Requirement already satisfied: fonttools>=4.22.0 in /usr/local/lib/python3.10/dist-packages (from matplotlib->genaibook) (4.55.0)\n",
            "Requirement already satisfied: kiwisolver>=1.0.1 in /usr/local/lib/python3.10/dist-packages (from matplotlib->genaibook) (1.4.7)\n",
            "Requirement already satisfied: python-dateutil>=2.7 in /usr/local/lib/python3.10/dist-packages (from matplotlib->genaibook) (2.8.2)\n",
            "Requirement already satisfied: absl-py in /usr/local/lib/python3.10/dist-packages (from mediapipe->genaibook) (1.4.0)\n",
            "Requirement already satisfied: attrs>=19.1.0 in /usr/local/lib/python3.10/dist-packages (from mediapipe->genaibook) (24.2.0)\n",
            "Requirement already satisfied: flatbuffers>=2.0 in /usr/local/lib/python3.10/dist-packages (from mediapipe->genaibook) (24.3.25)\n",
            "Requirement already satisfied: jax in /usr/local/lib/python3.10/dist-packages (from mediapipe->genaibook) (0.4.33)\n",
            "Requirement already satisfied: jaxlib in /usr/local/lib/python3.10/dist-packages (from mediapipe->genaibook) (0.4.33)\n",
            "Requirement already satisfied: opencv-contrib-python in /usr/local/lib/python3.10/dist-packages (from mediapipe->genaibook) (4.10.0.84)\n",
            "Requirement already satisfied: protobuf<5,>=4.25.3 in /usr/local/lib/python3.10/dist-packages (from mediapipe->genaibook) (4.25.5)\n",
            "Collecting sounddevice>=0.4.4 (from mediapipe->genaibook)\n",
            "  Downloading sounddevice-0.5.1-py3-none-any.whl.metadata (1.4 kB)\n",
            "Requirement already satisfied: pytz>=2020.1 in /usr/local/lib/python3.10/dist-packages (from pandas->genaibook) (2024.2)\n",
            "Requirement already satisfied: tzdata>=2022.7 in /usr/local/lib/python3.10/dist-packages (from pandas->genaibook) (2024.2)\n",
            "Requirement already satisfied: aiohappyeyeballs>=2.3.0 in /usr/local/lib/python3.10/dist-packages (from aiohttp->datasets[audio]->genaibook) (2.4.3)\n",
            "Requirement already satisfied: aiosignal>=1.1.2 in /usr/local/lib/python3.10/dist-packages (from aiohttp->datasets[audio]->genaibook) (1.3.1)\n",
            "Requirement already satisfied: frozenlist>=1.1.1 in /usr/local/lib/python3.10/dist-packages (from aiohttp->datasets[audio]->genaibook) (1.5.0)\n",
            "Requirement already satisfied: multidict<7.0,>=4.5 in /usr/local/lib/python3.10/dist-packages (from aiohttp->datasets[audio]->genaibook) (6.1.0)\n",
            "Requirement already satisfied: propcache>=0.2.0 in /usr/local/lib/python3.10/dist-packages (from aiohttp->datasets[audio]->genaibook) (0.2.0)\n",
            "Requirement already satisfied: yarl<2.0,>=1.17.0 in /usr/local/lib/python3.10/dist-packages (from aiohttp->datasets[audio]->genaibook) (1.17.2)\n",
            "Requirement already satisfied: async-timeout<6.0,>=4.0 in /usr/local/lib/python3.10/dist-packages (from aiohttp->datasets[audio]->genaibook) (4.0.3)\n",
            "Requirement already satisfied: llvmlite<0.44,>=0.43.0dev0 in /usr/local/lib/python3.10/dist-packages (from numba>=0.51.0->librosa->genaibook) (0.43.0)\n",
            "Requirement already satisfied: platformdirs>=2.5.0 in /usr/local/lib/python3.10/dist-packages (from pooch>=1.1->librosa->genaibook) (4.3.6)\n",
            "Requirement already satisfied: six>=1.5 in /usr/local/lib/python3.10/dist-packages (from python-dateutil>=2.7->matplotlib->genaibook) (1.16.0)\n",
            "Requirement already satisfied: charset-normalizer<4,>=2 in /usr/local/lib/python3.10/dist-packages (from requests->diffusers->genaibook) (3.4.0)\n",
            "Requirement already satisfied: idna<4,>=2.5 in /usr/local/lib/python3.10/dist-packages (from requests->diffusers->genaibook) (3.10)\n",
            "Requirement already satisfied: urllib3<3,>=1.21.1 in /usr/local/lib/python3.10/dist-packages (from requests->diffusers->genaibook) (2.2.3)\n",
            "Requirement already satisfied: certifi>=2017.4.17 in /usr/local/lib/python3.10/dist-packages (from requests->diffusers->genaibook) (2024.8.30)\n",
            "Requirement already satisfied: threadpoolctl>=3.1.0 in /usr/local/lib/python3.10/dist-packages (from scikit-learn>=0.20.0->librosa->genaibook) (3.5.0)\n",
            "Requirement already satisfied: CFFI>=1.0 in /usr/local/lib/python3.10/dist-packages (from sounddevice>=0.4.4->mediapipe->genaibook) (1.17.1)\n",
            "Requirement already satisfied: zipp>=3.20 in /usr/local/lib/python3.10/dist-packages (from importlib-metadata->diffusers->genaibook) (3.21.0)\n",
            "Requirement already satisfied: ml-dtypes>=0.2.0 in /usr/local/lib/python3.10/dist-packages (from jax->mediapipe->genaibook) (0.4.1)\n",
            "Requirement already satisfied: opt-einsum in /usr/local/lib/python3.10/dist-packages (from jax->mediapipe->genaibook) (3.4.0)\n",
            "Requirement already satisfied: MarkupSafe>=2.0 in /usr/local/lib/python3.10/dist-packages (from jinja2->torch->genaibook) (3.0.2)\n",
            "Requirement already satisfied: imageio>=2.33 in /usr/local/lib/python3.10/dist-packages (from scikit-image->controlnet-aux->genaibook) (2.36.0)\n",
            "Requirement already satisfied: tifffile>=2022.8.12 in /usr/local/lib/python3.10/dist-packages (from scikit-image->controlnet-aux->genaibook) (2024.9.20)\n",
            "Requirement already satisfied: pycparser in /usr/local/lib/python3.10/dist-packages (from CFFI>=1.0->sounddevice>=0.4.4->mediapipe->genaibook) (2.22)\n",
            "Downloading genaibook-0.1.1-py3-none-any.whl (12 kB)\n",
            "Downloading bitsandbytes-0.44.1-py3-none-manylinux_2_24_x86_64.whl (122.4 MB)\n",
            "\u001b[2K   \u001b[90m━━━━━━━━━━━━━━━━━━━━━━━━━━━━━━━━━━━━━━━━\u001b[0m \u001b[32m122.4/122.4 MB\u001b[0m \u001b[31m6.4 MB/s\u001b[0m eta \u001b[36m0:00:00\u001b[0m\n",
            "\u001b[?25hDownloading compel-2.0.3-py3-none-any.whl (30 kB)\n",
            "Downloading controlnet_aux-0.0.9-py3-none-any.whl (282 kB)\n",
            "\u001b[2K   \u001b[90m━━━━━━━━━━━━━━━━━━━━━━━━━━━━━━━━━━━━━━━━\u001b[0m \u001b[32m282.4/282.4 kB\u001b[0m \u001b[31m16.8 MB/s\u001b[0m eta \u001b[36m0:00:00\u001b[0m\n",
            "\u001b[?25hDownloading evaluate-0.4.3-py3-none-any.whl (84 kB)\n",
            "\u001b[2K   \u001b[90m━━━━━━━━━━━━━━━━━━━━━━━━━━━━━━━━━━━━━━━━\u001b[0m \u001b[32m84.0/84.0 kB\u001b[0m \u001b[31m5.9 MB/s\u001b[0m eta \u001b[36m0:00:00\u001b[0m\n",
            "\u001b[?25hDownloading jiwer-3.0.5-py3-none-any.whl (21 kB)\n",
            "Downloading mediapipe-0.10.18-cp310-cp310-manylinux_2_17_x86_64.manylinux2014_x86_64.whl (36.1 MB)\n",
            "\u001b[2K   \u001b[90m━━━━━━━━━━━━━━━━━━━━━━━━━━━━━━━━━━━━━━━━\u001b[0m \u001b[32m36.1/36.1 MB\u001b[0m \u001b[31m45.2 MB/s\u001b[0m eta \u001b[36m0:00:00\u001b[0m\n",
            "\u001b[?25hDownloading pydub-0.25.1-py2.py3-none-any.whl (32 kB)\n",
            "Downloading datasets-3.1.0-py3-none-any.whl (480 kB)\n",
            "\u001b[2K   \u001b[90m━━━━━━━━━━━━━━━━━━━━━━━━━━━━━━━━━━━━━━━━\u001b[0m \u001b[32m480.6/480.6 kB\u001b[0m \u001b[31m26.3 MB/s\u001b[0m eta \u001b[36m0:00:00\u001b[0m\n",
            "\u001b[?25hDownloading dill-0.3.8-py3-none-any.whl (116 kB)\n",
            "\u001b[2K   \u001b[90m━━━━━━━━━━━━━━━━━━━━━━━━━━━━━━━━━━━━━━━━\u001b[0m \u001b[32m116.3/116.3 kB\u001b[0m \u001b[31m8.3 MB/s\u001b[0m eta \u001b[36m0:00:00\u001b[0m\n",
            "\u001b[?25hDownloading fsspec-2024.9.0-py3-none-any.whl (179 kB)\n",
            "\u001b[2K   \u001b[90m━━━━━━━━━━━━━━━━━━━━━━━━━━━━━━━━━━━━━━━━\u001b[0m \u001b[32m179.3/179.3 kB\u001b[0m \u001b[31m12.1 MB/s\u001b[0m eta \u001b[36m0:00:00\u001b[0m\n",
            "\u001b[?25hDownloading multiprocess-0.70.16-py310-none-any.whl (134 kB)\n",
            "\u001b[2K   \u001b[90m━━━━━━━━━━━━━━━━━━━━━━━━━━━━━━━━━━━━━━━━\u001b[0m \u001b[32m134.8/134.8 kB\u001b[0m \u001b[31m9.1 MB/s\u001b[0m eta \u001b[36m0:00:00\u001b[0m\n",
            "\u001b[?25hDownloading rapidfuzz-3.10.1-cp310-cp310-manylinux_2_17_x86_64.manylinux2014_x86_64.whl (3.1 MB)\n",
            "\u001b[2K   \u001b[90m━━━━━━━━━━━━━━━━━━━━━━━━━━━━━━━━━━━━━━━━\u001b[0m \u001b[32m3.1/3.1 MB\u001b[0m \u001b[31m64.8 MB/s\u001b[0m eta \u001b[36m0:00:00\u001b[0m\n",
            "\u001b[?25hDownloading sounddevice-0.5.1-py3-none-any.whl (32 kB)\n",
            "Downloading timm-0.6.7-py3-none-any.whl (509 kB)\n",
            "\u001b[2K   \u001b[90m━━━━━━━━━━━━━━━━━━━━━━━━━━━━━━━━━━━━━━━━\u001b[0m \u001b[32m510.0/510.0 kB\u001b[0m \u001b[31m28.5 MB/s\u001b[0m eta \u001b[36m0:00:00\u001b[0m\n",
            "\u001b[?25hDownloading xxhash-3.5.0-cp310-cp310-manylinux_2_17_x86_64.manylinux2014_x86_64.whl (194 kB)\n",
            "\u001b[2K   \u001b[90m━━━━━━━━━━━━━━━━━━━━━━━━━━━━━━━━━━━━━━━━\u001b[0m \u001b[32m194.1/194.1 kB\u001b[0m \u001b[31m12.3 MB/s\u001b[0m eta \u001b[36m0:00:00\u001b[0m\n",
            "\u001b[?25hInstalling collected packages: pydub, xxhash, rapidfuzz, fsspec, dill, sounddevice, multiprocess, jiwer, bitsandbytes, timm, mediapipe, datasets, controlnet-aux, compel, evaluate, genaibook\n",
            "  Attempting uninstall: fsspec\n",
            "    Found existing installation: fsspec 2024.10.0\n",
            "    Uninstalling fsspec-2024.10.0:\n",
            "      Successfully uninstalled fsspec-2024.10.0\n",
            "  Attempting uninstall: timm\n",
            "    Found existing installation: timm 1.0.11\n",
            "    Uninstalling timm-1.0.11:\n",
            "      Successfully uninstalled timm-1.0.11\n",
            "\u001b[31mERROR: pip's dependency resolver does not currently take into account all the packages that are installed. This behaviour is the source of the following dependency conflicts.\n",
            "gcsfs 2024.10.0 requires fsspec==2024.10.0, but you have fsspec 2024.9.0 which is incompatible.\u001b[0m\u001b[31m\n",
            "\u001b[0mSuccessfully installed bitsandbytes-0.44.1 compel-2.0.3 controlnet-aux-0.0.9 datasets-3.1.0 dill-0.3.8 evaluate-0.4.3 fsspec-2024.9.0 genaibook-0.1.1 jiwer-3.0.5 mediapipe-0.10.18 multiprocess-0.70.16 pydub-0.25.1 rapidfuzz-3.10.1 sounddevice-0.5.1 timm-0.6.7 xxhash-3.5.0\n"
          ]
        }
      ],
      "source": [
        "!pip install genaibook\n",
        "from transformers import logging\n",
        "\n",
        "logging.set_verbosity_error()"
      ]
    },
    {
      "cell_type": "markdown",
      "metadata": {
        "id": "c19Giet7ZYUu"
      },
      "source": [
        "## A Language Model in Action"
      ]
    },
    {
      "cell_type": "markdown",
      "metadata": {
        "id": "AuD2nB9wZYUv"
      },
      "source": [
        "### Tokenizing Text"
      ]
    },
    {
      "cell_type": "code",
      "execution_count": 2,
      "metadata": {
        "id": "LtvfDqLWZYUv",
        "outputId": "9189dd26-178d-4e90-ceae-0a358d397f74",
        "colab": {
          "base_uri": "https://localhost:8080/",
          "height": 267,
          "referenced_widgets": [
            "a3a65a1e276f4f4d85f59ac274dc6458",
            "4f01e6c7eb3b4e58bb8707653171d210",
            "6d708abdf40440d0b6d7576ac781c137",
            "2bfc95e625d04f6cbdd403ca9d9ea6eb",
            "b8b1ea0344f64af2a7e15a92e4afa0e1",
            "cf3aea012fa643f4b1d8e88d01541d89",
            "f2aaee906d7b430794a4903c7adfa7e5",
            "38a49e96edec4a37b4d670c3d30ea9e4",
            "e574c13e4b394f5296664372a35221ff",
            "20805f8d69f045f5868d32b0d7017742",
            "bf5ed52a58cd44bcac9afa8ee4878600",
            "6ad2c817be464636910a0010844336e5",
            "3b3473e12a614f7387e77bbe6f5ef1a6",
            "5d417ce5165b415fa64b647144d4394c",
            "49f43dab12d548c4893a58b25c64c14d",
            "2fbb9beecc034a03a606c16b9f468ec7",
            "edb6d2e2393b40528fa3281c39e12b08",
            "164bd410ca1e44b4982fa69ae2513595",
            "73f21f9a6bf942f5a5574a03b0bd42bd",
            "ee67427c77df42d389103216bf88f658",
            "364217fea7bc4d2797260d1fe8db3cd2",
            "18658ae813834272a40b03ca32740ff4",
            "bc4bed88ca3146e5b31eeebbbfe54693",
            "813d55e8b98f4004bb8c4bdab5d41db7",
            "f3f3f10bfff7423880865bd4f813aebf",
            "90ab169f2dfb4c11bfa835d2caa90b13",
            "b0bc58cc97774e4d9d256c03df615298",
            "e9dbed4186c4467d902db34d0a3ec009",
            "c87d8d6de4374f49a08b90d3edb9a159",
            "a14a92c918674b149c1a1444798448a9",
            "4851c95074ab499b8d6e661fb8cfd028",
            "52f1641b98524953a91fb5dc5fb76714",
            "49529707dde04b9092890473b6cce2d4",
            "b750bbd0d4434492aeafd0effc7e52e1",
            "df1648e7f35b41e79d6db897af5b6634",
            "a5c621c0eb664290925f4ae65fb49814",
            "bf181cbc67064165a6202ec8e60f87dc",
            "9fcbacc9db9548f88e9ee65515d97789",
            "440e96b0c3da4e5c977b0157957d46c4",
            "3ec3aae1f91d42a9b7f7348369dea133",
            "4faa10a3777f44e38c42e96d5781aa9c",
            "7c5ac2dde2b04ba6a29ad7dae60117f3",
            "c68312bd0fa94ea785a14716c165d256",
            "a849ffa045ad431baec8655f43dcca65"
          ]
        }
      },
      "outputs": [
        {
          "output_type": "stream",
          "name": "stderr",
          "text": [
            "/usr/local/lib/python3.10/dist-packages/huggingface_hub/utils/_auth.py:94: UserWarning: \n",
            "The secret `HF_TOKEN` does not exist in your Colab secrets.\n",
            "To authenticate with the Hugging Face Hub, create a token in your settings tab (https://huggingface.co/settings/tokens), set it as secret in your Google Colab and restart your session.\n",
            "You will be able to reuse this secret in all of your notebooks.\n",
            "Please note that authentication is recommended but still optional to access public models or datasets.\n",
            "  warnings.warn(\n"
          ]
        },
        {
          "output_type": "display_data",
          "data": {
            "text/plain": [
              "tokenizer_config.json:   0%|          | 0.00/1.29k [00:00<?, ?B/s]"
            ],
            "application/vnd.jupyter.widget-view+json": {
              "version_major": 2,
              "version_minor": 0,
              "model_id": "a3a65a1e276f4f4d85f59ac274dc6458"
            }
          },
          "metadata": {}
        },
        {
          "output_type": "display_data",
          "data": {
            "text/plain": [
              "vocab.json:   0%|          | 0.00/2.78M [00:00<?, ?B/s]"
            ],
            "application/vnd.jupyter.widget-view+json": {
              "version_major": 2,
              "version_minor": 0,
              "model_id": "6ad2c817be464636910a0010844336e5"
            }
          },
          "metadata": {}
        },
        {
          "output_type": "display_data",
          "data": {
            "text/plain": [
              "merges.txt:   0%|          | 0.00/1.67M [00:00<?, ?B/s]"
            ],
            "application/vnd.jupyter.widget-view+json": {
              "version_major": 2,
              "version_minor": 0,
              "model_id": "bc4bed88ca3146e5b31eeebbbfe54693"
            }
          },
          "metadata": {}
        },
        {
          "output_type": "display_data",
          "data": {
            "text/plain": [
              "tokenizer.json:   0%|          | 0.00/7.03M [00:00<?, ?B/s]"
            ],
            "application/vnd.jupyter.widget-view+json": {
              "version_major": 2,
              "version_minor": 0,
              "model_id": "b750bbd0d4434492aeafd0effc7e52e1"
            }
          },
          "metadata": {}
        },
        {
          "output_type": "execute_result",
          "data": {
            "text/plain": [
              "[2132, 572, 264, 6319, 323, 13458, 88]"
            ]
          },
          "metadata": {},
          "execution_count": 2
        }
      ],
      "source": [
        "from transformers import AutoTokenizer\n",
        "\n",
        "# Use the id of the model you want to use\n",
        "# GPT-2 \"openai-community/gpt2\"\n",
        "# Qwen \"Qwen/Qwen2-0.5B\"\n",
        "# SmolLM \"HuggingFaceTB/SmolLM-135M\"\n",
        "\n",
        "prompt = \"It was a dark and stormy\"\n",
        "tokenizer = AutoTokenizer.from_pretrained(\"Qwen/Qwen2-0.5B\")\n",
        "input_ids = tokenizer(prompt).input_ids\n",
        "input_ids"
      ]
    },
    {
      "cell_type": "code",
      "execution_count": null,
      "metadata": {
        "id": "L50hwsb5ZYUv"
      },
      "outputs": [],
      "source": [
        "for t in input_ids:\n",
        "    print(t, \"\\t:\", tokenizer.decode(t))"
      ]
    },
    {
      "cell_type": "markdown",
      "metadata": {
        "id": "zGVHvRJsZYUw"
      },
      "source": [
        "### Predicting Probabilities"
      ]
    },
    {
      "cell_type": "code",
      "execution_count": null,
      "metadata": {
        "id": "vHWo-DKUZYUw"
      },
      "outputs": [],
      "source": [
        "from transformers import AutoModelForCausalLM\n",
        "\n",
        "model = AutoModelForCausalLM.from_pretrained(\"Qwen/Qwen2-0.5B\")"
      ]
    },
    {
      "cell_type": "code",
      "execution_count": null,
      "metadata": {
        "id": "5kOvoptRZYUw"
      },
      "outputs": [],
      "source": [
        "# We tokenize again but specifying the tokenizer that we want it to\n",
        "# return a PyTorch tensor, which is what the model expects,\n",
        "# rather than a list of integers\n",
        "input_ids = tokenizer(prompt, return_tensors=\"pt\").input_ids\n",
        "\n",
        "outputs = model(input_ids)\n",
        "outputs.logits.shape  # An output for each input token"
      ]
    },
    {
      "cell_type": "code",
      "execution_count": null,
      "metadata": {
        "id": "8xPnEAXFZYUw"
      },
      "outputs": [],
      "source": [
        "final_logits = model(input_ids).logits[0, -1]  # The last set of logits\n",
        "final_logits.argmax()  # The position of the maximum"
      ]
    },
    {
      "cell_type": "code",
      "execution_count": null,
      "metadata": {
        "id": "Zk5Jwr8fZYUx"
      },
      "outputs": [],
      "source": [
        "tokenizer.decode(final_logits.argmax())"
      ]
    },
    {
      "cell_type": "code",
      "execution_count": null,
      "metadata": {
        "id": "2VRsdPyxZYUx"
      },
      "outputs": [],
      "source": [
        "import torch\n",
        "\n",
        "top10_logits = torch.topk(final_logits, 10)\n",
        "for index in top10_logits.indices:\n",
        "    print(tokenizer.decode(index))"
      ]
    },
    {
      "cell_type": "code",
      "execution_count": null,
      "metadata": {
        "id": "HzjMpyIGZYUx"
      },
      "outputs": [],
      "source": [
        "top10 = torch.topk(final_logits.softmax(dim=0), 10)\n",
        "for value, index in zip(top10.values, top10.indices):\n",
        "    print(f\"{tokenizer.decode(index):<10} {value.item():.2%}\")"
      ]
    },
    {
      "cell_type": "markdown",
      "metadata": {
        "id": "AzUfQND3ZYUx"
      },
      "source": [
        "### Generating Text"
      ]
    },
    {
      "cell_type": "markdown",
      "metadata": {
        "id": "A9P1axTcZYUx"
      },
      "source": [
        "**Greedy Decoding**"
      ]
    },
    {
      "cell_type": "code",
      "execution_count": null,
      "metadata": {
        "id": "aJ1ep1JGZYUx"
      },
      "outputs": [],
      "source": [
        "output_ids = model.generate(input_ids, max_new_tokens=20)\n",
        "decoded_text = tokenizer.decode(output_ids[0])\n",
        "\n",
        "print(\"Input IDs\", input_ids[0])\n",
        "print(\"Output IDs\", output_ids)\n",
        "print(f\"Generated text: {decoded_text}\")"
      ]
    },
    {
      "cell_type": "markdown",
      "metadata": {
        "id": "l_h2NhoYZYUy"
      },
      "source": [
        "**Beam Search**"
      ]
    },
    {
      "cell_type": "code",
      "execution_count": null,
      "metadata": {
        "id": "lFrIHZivZYUy"
      },
      "outputs": [],
      "source": [
        "beam_output = model.generate(\n",
        "    input_ids,\n",
        "    num_beams=5,\n",
        "    max_new_tokens=30,\n",
        ")\n",
        "\n",
        "print(tokenizer.decode(beam_output[0]))"
      ]
    },
    {
      "cell_type": "markdown",
      "metadata": {
        "id": "uQlWwA_wZYUy"
      },
      "source": [
        "**Beam search with repetition penalty**"
      ]
    },
    {
      "cell_type": "code",
      "execution_count": null,
      "metadata": {
        "id": "tzi3wmQlZYUy"
      },
      "outputs": [],
      "source": [
        "beam_output = model.generate(\n",
        "    input_ids,\n",
        "    num_beams=5,\n",
        "    repetition_penalty=2.0,\n",
        "    max_new_tokens=38,\n",
        ")\n",
        "\n",
        "print(tokenizer.decode(beam_output[0]))"
      ]
    },
    {
      "cell_type": "markdown",
      "metadata": {
        "id": "7uTufm4gZYUy"
      },
      "source": [
        "**Sampling**"
      ]
    },
    {
      "cell_type": "code",
      "execution_count": null,
      "metadata": {
        "id": "U0BqnSk9ZYUy"
      },
      "outputs": [],
      "source": [
        "from transformers import set_seed\n",
        "\n",
        "# Setting the seed ensures we get the same results every time we run this code\n",
        "set_seed(70)\n",
        "\n",
        "sampling_output = model.generate(\n",
        "    input_ids,\n",
        "    do_sample=True,\n",
        "    max_new_tokens=34,\n",
        "    top_k=0,  # We'll come back to this parameter\n",
        ")\n",
        "\n",
        "print(tokenizer.decode(sampling_output[0]))"
      ]
    },
    {
      "cell_type": "markdown",
      "metadata": {
        "id": "1a1HZNqlZYUy"
      },
      "source": [
        "**Sampling with different `temperature`s**"
      ]
    },
    {
      "cell_type": "code",
      "execution_count": null,
      "metadata": {
        "id": "TYTagYz3ZYUz"
      },
      "outputs": [],
      "source": [
        "sampling_output = model.generate(\n",
        "    input_ids,\n",
        "    do_sample=True,\n",
        "    temperature=0.4,\n",
        "    max_new_tokens=40,\n",
        "    top_k=0,\n",
        ")\n",
        "\n",
        "print(tokenizer.decode(sampling_output[0]))"
      ]
    },
    {
      "cell_type": "code",
      "execution_count": null,
      "metadata": {
        "id": "Q_C7gYC9ZYUz"
      },
      "outputs": [],
      "source": [
        "sampling_output = model.generate(\n",
        "    input_ids,\n",
        "    do_sample=True,\n",
        "    temperature=0.001,\n",
        "    max_new_tokens=40,\n",
        "    top_k=0,\n",
        ")\n",
        "\n",
        "print(tokenizer.decode(sampling_output[0]))"
      ]
    },
    {
      "cell_type": "code",
      "execution_count": null,
      "metadata": {
        "id": "uST6BUaAZYUz"
      },
      "outputs": [],
      "source": [
        "sampling_output = model.generate(\n",
        "    input_ids,\n",
        "    do_sample=True,\n",
        "    temperature=3.0,\n",
        "    max_new_tokens=40,\n",
        "    top_k=0,\n",
        ")\n",
        "\n",
        "print(tokenizer.decode(sampling_output[0]))"
      ]
    },
    {
      "cell_type": "markdown",
      "metadata": {
        "id": "vVEfV_DmZYUz"
      },
      "source": [
        "**Sampling with `top_k`**"
      ]
    },
    {
      "cell_type": "code",
      "execution_count": null,
      "metadata": {
        "id": "JitsxJhvZYUz"
      },
      "outputs": [],
      "source": [
        "sampling_output = model.generate(\n",
        "    input_ids,\n",
        "    do_sample=True,\n",
        "    max_new_tokens=40,\n",
        "    top_k=10,\n",
        ")\n",
        "\n",
        "print(tokenizer.decode(sampling_output[0]))"
      ]
    },
    {
      "cell_type": "markdown",
      "metadata": {
        "id": "n64cn6KOZYUz"
      },
      "source": [
        "**Top-p sampling**"
      ]
    },
    {
      "cell_type": "code",
      "execution_count": null,
      "metadata": {
        "id": "gfiVjjeUZYUz"
      },
      "outputs": [],
      "source": [
        "sampling_output = model.generate(\n",
        "    input_ids,\n",
        "    do_sample=True,\n",
        "    max_new_tokens=40,\n",
        "    top_p=0.94,\n",
        ")\n",
        "\n",
        "print(tokenizer.decode(sampling_output[0]))"
      ]
    },
    {
      "cell_type": "markdown",
      "metadata": {
        "id": "vTe96Jj_ZYUz"
      },
      "source": [
        "### Zero-shot Classification"
      ]
    },
    {
      "cell_type": "markdown",
      "metadata": {
        "id": "7v8arh-DZYU0"
      },
      "source": [
        "#### Book code"
      ]
    },
    {
      "cell_type": "code",
      "execution_count": null,
      "metadata": {
        "id": "rqk23SAQZYU0"
      },
      "outputs": [],
      "source": [
        "# Check the token IDs for the words ' positive' and ' negative'\n",
        "# (note the space before the words)\n",
        "tokenizer.encode(\" positive\"), tokenizer.encode(\" negative\")"
      ]
    },
    {
      "cell_type": "code",
      "execution_count": null,
      "metadata": {
        "id": "FwaEm3X2ZYU0"
      },
      "outputs": [],
      "source": [
        "def score(review):\n",
        "    \"\"\"Predict whether it is positive or negative\n",
        "\n",
        "    This function predicts whether a review is positive or negative\n",
        "    using a bit of clever prompting. It looks at the logits for the\n",
        "    tokens ' positive' and ' negative', and returns the label\n",
        "    with the highest score.\n",
        "    \"\"\"\n",
        "    prompt = f\"\"\"Question: Is the following review positive or\n",
        "negative about the movie?\n",
        "Review: {review} Answer:\"\"\"\n",
        "\n",
        "    input_ids = tokenizer(prompt, return_tensors=\"pt\").input_ids  # <1>\n",
        "    final_logits = model(input_ids).logits[0, -1]  # <2>\n",
        "    if final_logits[6785] > final_logits[8225]:  # <3>\n",
        "        print(\"Positive\")\n",
        "    else:\n",
        "        print(\"Negative\")"
      ]
    },
    {
      "cell_type": "code",
      "execution_count": null,
      "metadata": {
        "id": "b7yulxhMZYU0"
      },
      "outputs": [],
      "source": [
        "score(\"This movie was terrible!\")"
      ]
    },
    {
      "cell_type": "code",
      "execution_count": null,
      "metadata": {
        "id": "LMvlMGIzZYU0"
      },
      "outputs": [],
      "source": [
        "score(\"That movie was great!\")"
      ]
    },
    {
      "cell_type": "code",
      "execution_count": null,
      "metadata": {
        "id": "UzOwBDZhZYU0"
      },
      "outputs": [],
      "source": [
        "score(\"A complex yet wonderful film about the depravity of man\")  # A mistake"
      ]
    },
    {
      "cell_type": "markdown",
      "metadata": {
        "id": "cl1dt6LgZYU0"
      },
      "source": [
        "#### Suplementary material (not in the book)"
      ]
    },
    {
      "cell_type": "markdown",
      "metadata": {
        "id": "YYl58SLDZYU1"
      },
      "source": [
        "This section shows how to use a pre-trained generative model to perform classification via zero-shot classification. We'll use a dataset of labeled reviews and measure the confusion matrix. A confusion matrix serves as a table summarizing a model's performance, depicting counts of true positive, true negative, false positive, and false negative predictions. Rows indicate actual (ground truth) classes, while columns indicate predicted classes. Analyzing this matrix provides insights into the model's strengths and weaknesses in distinguishing between specific classes."
      ]
    },
    {
      "cell_type": "markdown",
      "metadata": {
        "id": "Srxs11cdZYU1"
      },
      "source": [
        "Let's use the `Qwen/Qwen2-0.5B` model and its tokenizer."
      ]
    },
    {
      "cell_type": "code",
      "execution_count": null,
      "metadata": {
        "id": "t1VxfEvCZYU1"
      },
      "outputs": [],
      "source": [
        "from genaibook.core import get_device\n",
        "from transformers import AutoModelForCausalLM, AutoTokenizer\n",
        "\n",
        "device = get_device()\n",
        "tokenizer = AutoTokenizer.from_pretrained(\"Qwen/Qwen2-0.5B\")\n",
        "model = AutoModelForCausalLM.from_pretrained(\"Qwen/Qwen2-0.5B\").to(device)"
      ]
    },
    {
      "cell_type": "markdown",
      "metadata": {
        "id": "kMreas0uZYU2"
      },
      "source": [
        "Then, we define our `score` function just as in the book, but with some key differences:\n",
        "\n",
        "* we use 1 (`positive`) and 0 (`negative`),\n",
        "* we receive a sample so we can use the `datasets` library. You can use this as a dictionary with the review being accessible with `sample[\"text\"]`,\n",
        "* we add a new column, `pred`, which contains the 0 or 1 from the model.\n",
        "* we add `truncation=True` to the `tokenizer` call. Truncation is needed as `score` will be called with a batch of samples, and we need to ensure that all samples have the same length. We'll explain in future chapters why this is needed, but for now, just remember that it's necessary when working with batches of samples."
      ]
    },
    {
      "cell_type": "code",
      "execution_count": null,
      "metadata": {
        "id": "ZwDnJlI8ZYU2"
      },
      "outputs": [],
      "source": [
        "tokenizer.encode(\" positive\"), tokenizer.encode(\" negative\")"
      ]
    },
    {
      "cell_type": "code",
      "execution_count": null,
      "metadata": {
        "id": "ggcMjUCJZYU2"
      },
      "outputs": [],
      "source": [
        "def score(sample):\n",
        "    \"\"\"Given a review, predict whether it is positive or negative using a bit of clever prompting\"\"\"\n",
        "    prompt = f\"Question: Is the following review positive or negative about the movie?\\nReview: {sample['text']} Answer:\"\n",
        "    input_ids = tokenizer(\n",
        "        prompt, truncation=True, return_tensors=\"pt\"\n",
        "    ).input_ids.to(device)\n",
        "    final_logits = model(input_ids).logits[0, -1]\n",
        "    if final_logits[6785] > final_logits[8225]:\n",
        "        sample[\"pred\"] = 1\n",
        "    else:\n",
        "        sample[\"pred\"] = 0\n",
        "    return sample"
      ]
    },
    {
      "cell_type": "code",
      "execution_count": null,
      "metadata": {
        "id": "1cuee1G_ZYU2"
      },
      "outputs": [],
      "source": [
        "score({\"text\": \"This movie was terrible!\"})"
      ]
    },
    {
      "cell_type": "markdown",
      "metadata": {
        "id": "uewN7CETZYU2"
      },
      "source": [
        "Let's use the [IMDB](https://huggingface.co/datasets/imdb) dataset, which contains 25,000 rows of labeled reviews. We'll use the `datasets` library to load the dataset and load the `train` split."
      ]
    },
    {
      "cell_type": "code",
      "execution_count": null,
      "metadata": {
        "id": "sjiyk6KWZYU2"
      },
      "outputs": [],
      "source": [
        "from datasets import load_dataset\n",
        "\n",
        "dataset = load_dataset(\"imdb\")[\"train\"]"
      ]
    },
    {
      "cell_type": "markdown",
      "metadata": {
        "id": "pXU89JRzZYU2"
      },
      "source": [
        "For fast iteration, we'll just use 1000 random samples from the dataset. We'll `shuffle` the dataset and then take the first 1000 samples."
      ]
    },
    {
      "cell_type": "code",
      "execution_count": null,
      "metadata": {
        "id": "XusgQ32ZZYU2"
      },
      "outputs": [],
      "source": [
        "shuffled_dataset = dataset.shuffle(seed=42)\n",
        "small_dataset = shuffled_dataset.select(range(1000))"
      ]
    },
    {
      "cell_type": "markdown",
      "metadata": {
        "id": "SytAJsLTZYU3"
      },
      "source": [
        "Then, we can use the `score` function to predict the sentiment of the reviews and compare the predictions with the actual labels."
      ]
    },
    {
      "cell_type": "code",
      "execution_count": null,
      "metadata": {
        "id": "zoLieRM7ZYU3"
      },
      "outputs": [],
      "source": [
        "updated_dataset = small_dataset.map(score)\n",
        "updated_dataset"
      ]
    },
    {
      "cell_type": "markdown",
      "metadata": {
        "id": "CRD6rmk-ZYU3"
      },
      "source": [
        "We'll use the `evaluate` library to obtain the confusion matrix. A confusion matrix serves as a table summarizing a model's performance, depicing counts of true positive, true negatives, false positive, and false negative predictions. Rows indicate actual (label) classes, while columns indicate predicted classes. Analyzing this matrix provides insights into the model's strengths and weaknesses in distinguishing between classes. The fine-tune LLM chapter dives into this metric."
      ]
    },
    {
      "cell_type": "code",
      "execution_count": null,
      "metadata": {
        "id": "9Lv27V7oZYU3"
      },
      "outputs": [],
      "source": [
        "import evaluate\n",
        "\n",
        "confusion_matrix = evaluate.load(\"confusion_matrix\")\n",
        "cm = confusion_matrix.compute(\n",
        "    references=updated_dataset[\"label\"],\n",
        "    predictions=updated_dataset[\"pred\"],\n",
        ")\n",
        "cm"
      ]
    },
    {
      "cell_type": "code",
      "execution_count": null,
      "metadata": {
        "id": "GkiwPDnMZYU3"
      },
      "outputs": [],
      "source": [
        "import matplotlib.pyplot as plt\n",
        "from sklearn.metrics import ConfusionMatrixDisplay\n",
        "\n",
        "fig, ax = plt.subplots(figsize=(6, 6))\n",
        "disp = ConfusionMatrixDisplay(\n",
        "    confusion_matrix=cm[\"confusion_matrix\"],\n",
        "    display_labels=[\"negative\", \"positive\"],\n",
        ")\n",
        "disp.plot(cmap=\"Blues\", values_format=\".2f\", ax=ax, colorbar=False)\n",
        "\n",
        "plt.title(\"Normalized confusion matrix\")\n",
        "plt.show()"
      ]
    },
    {
      "cell_type": "markdown",
      "metadata": {
        "id": "2ekKcQ_RZYU3"
      },
      "source": [
        "What do we get out of these results?\n",
        "\n",
        "* The model does not perform amazingly well. There are many false negatives.\n",
        "* The model is very good identifying most negative reviews, but unfortunately marks many positive reviews as negative.\n",
        "\n",
        "Finally, we can also convert the dataset to a Pandas `DataFrame` and explore the data directly. Here is a starting point"
      ]
    },
    {
      "cell_type": "code",
      "execution_count": null,
      "metadata": {
        "id": "ZyuGKkfhZYU3"
      },
      "outputs": [],
      "source": [
        "df = updated_dataset.to_pandas()\n",
        "df.head()"
      ]
    },
    {
      "cell_type": "markdown",
      "metadata": {
        "id": "-ERN9RQtZYU4"
      },
      "source": [
        "**Now it's your turn**. Experiment with tweaking the prompt to improve the model performance. What's the best confusion matrix you can achieve? What if you try another model?"
      ]
    },
    {
      "cell_type": "markdown",
      "metadata": {
        "id": "hw7PsvHVZYU4"
      },
      "source": [
        "### Few-Shot Generation"
      ]
    },
    {
      "cell_type": "code",
      "execution_count": null,
      "metadata": {
        "id": "ssw5zaIOZYU4"
      },
      "outputs": [],
      "source": [
        "# We load the model in CPU again for this section for simplicity\n",
        "# but feel free to keep in GPU if you prefer.\n",
        "# Note: you need to move all the data to the device as well.\n",
        "model = AutoModelForCausalLM.from_pretrained(\"Qwen/Qwen2-0.5B\")"
      ]
    },
    {
      "cell_type": "code",
      "execution_count": null,
      "metadata": {
        "id": "YBLstwBeZYU4"
      },
      "outputs": [],
      "source": [
        "prompt = \"\"\"\\\n",
        "Translate English to Spanish:\n",
        "\n",
        "English: I do not speak Spanish.\n",
        "Spanish: No hablo español.\n",
        "\n",
        "English: See you later!\n",
        "Spanish: ¡Hasta luego!\n",
        "\n",
        "English: Where is a good restaurant?\n",
        "Spanish: ¿Dónde hay un buen restaurante?\n",
        "\n",
        "English: What rooms do you have available?\n",
        "Spanish: ¿Qué habitaciones tiene disponibles?\n",
        "\n",
        "English: I like soccer\n",
        "Spanish:\"\"\"\n",
        "inputs = tokenizer(prompt, return_tensors=\"pt\").input_ids\n",
        "output = model.generate(\n",
        "    inputs,\n",
        "    max_new_tokens=10,\n",
        ")\n",
        "\n",
        "print(tokenizer.decode(output[0]))"
      ]
    },
    {
      "cell_type": "markdown",
      "metadata": {
        "id": "jhw2zAmTZYU4"
      },
      "source": [
        "## Transformer Models Genealogy"
      ]
    },
    {
      "cell_type": "markdown",
      "metadata": {
        "id": "I2LjzMgAZYU4"
      },
      "source": [
        "### Encoder-only Models"
      ]
    },
    {
      "cell_type": "code",
      "execution_count": null,
      "metadata": {
        "id": "mBYB0tJzZYU4"
      },
      "outputs": [],
      "source": [
        "from transformers import pipeline\n",
        "\n",
        "fill_masker = pipeline(\"fill-mask\", model=\"bert-base-uncased\")\n",
        "fill_masker(\"The [MASK] is made of milk.\")"
      ]
    },
    {
      "cell_type": "markdown",
      "metadata": {
        "id": "xQPYWggdZYU5"
      },
      "source": [
        "## The Power of Pre-training"
      ]
    },
    {
      "cell_type": "markdown",
      "metadata": {
        "id": "YDIa-jaSZYU5"
      },
      "source": [
        "### The key Insights of Transformers\n"
      ]
    },
    {
      "cell_type": "code",
      "execution_count": null,
      "metadata": {
        "id": "IkXz7mqIZYU5"
      },
      "outputs": [],
      "source": [
        "from transformers import pipeline\n",
        "\n",
        "classifier = pipeline(\n",
        "    \"text-classification\",\n",
        "    model=\"distilbert-base-uncased-finetuned-sst-2-english\",\n",
        ")\n",
        "classifier(\"This movie is disgustingly good !\")"
      ]
    },
    {
      "cell_type": "markdown",
      "metadata": {
        "id": "fQaIljGMZYU5"
      },
      "source": [
        "### Limitations\n"
      ]
    },
    {
      "cell_type": "code",
      "execution_count": null,
      "metadata": {
        "id": "xaaqJe2QZYU5"
      },
      "outputs": [],
      "source": [
        "unmasker = pipeline(\"fill-mask\", model=\"bert-base-uncased\")\n",
        "result = unmasker(\"This man works as a [MASK] during summer.\")\n",
        "print([r[\"token_str\"] for r in result])\n",
        "\n",
        "result = unmasker(\"This woman works as a [MASK] during summer.\")\n",
        "print([r[\"token_str\"] for r in result])"
      ]
    },
    {
      "cell_type": "markdown",
      "metadata": {
        "id": "L7eSfw5TZYU5"
      },
      "source": [
        "## Beyond Text"
      ]
    },
    {
      "cell_type": "code",
      "execution_count": null,
      "metadata": {
        "id": "55sCp22cZYU5"
      },
      "outputs": [],
      "source": [
        "import requests\n",
        "from PIL import Image\n",
        "\n",
        "from genaibook.core import SampleURL\n",
        "\n",
        "# Download an image and load it with the PIL library\n",
        "url = SampleURL.CatExample\n",
        "image = Image.open(requests.get(url, stream=True).raw)\n",
        "image"
      ]
    },
    {
      "cell_type": "code",
      "execution_count": null,
      "metadata": {
        "id": "PdXjO73AZYU5"
      },
      "outputs": [],
      "source": [
        "pipe = pipeline(\n",
        "    \"zero-shot-image-classification\", model=\"openai/clip-vit-base-patch32\"\n",
        ")\n",
        "labels = [\"cat\", \"dog\", \"zebra\"]\n",
        "pipe(image, candidate_labels=labels)\n",
        ""
      ]
    },
    {
      "cell_type": "markdown",
      "metadata": {
        "id": "1zne9H_AZYU6"
      },
      "source": []
    },
    {
      "cell_type": "markdown",
      "metadata": {
        "id": "qlwvTQPeZYU6"
      },
      "source": [
        "## Solutions\n",
        "\n",
        "A big part of learning is putting your knowledge into practice. We strongly suggest not looking at the answers before taking a serious stab at it. Scroll down for the answers."
      ]
    },
    {
      "cell_type": "code",
      "execution_count": null,
      "metadata": {
        "id": "F7FnoLYeZYU6"
      },
      "outputs": [],
      "source": []
    },
    {
      "cell_type": "code",
      "execution_count": null,
      "metadata": {
        "id": "-K3pH9zRZYU6"
      },
      "outputs": [],
      "source": []
    },
    {
      "cell_type": "code",
      "execution_count": null,
      "metadata": {
        "id": "SFCmq7AfZYU6"
      },
      "outputs": [],
      "source": []
    },
    {
      "cell_type": "code",
      "execution_count": null,
      "metadata": {
        "id": "YKHBabLqZYU6"
      },
      "outputs": [],
      "source": []
    },
    {
      "cell_type": "code",
      "execution_count": null,
      "metadata": {
        "id": "mKQdhdYzZYU6"
      },
      "outputs": [],
      "source": []
    },
    {
      "cell_type": "code",
      "execution_count": null,
      "metadata": {
        "id": "wK1sY4Z_ZYU6"
      },
      "outputs": [],
      "source": []
    },
    {
      "cell_type": "code",
      "execution_count": null,
      "metadata": {
        "id": "5pHVr5FmZYU6"
      },
      "outputs": [],
      "source": []
    },
    {
      "cell_type": "code",
      "execution_count": null,
      "metadata": {
        "id": "aZgZz4J3ZYU6"
      },
      "outputs": [],
      "source": []
    },
    {
      "cell_type": "markdown",
      "metadata": {
        "id": "OgaWbMgqZYU6"
      },
      "source": [
        "### Project Time: Using LMs to Generate Text\n",
        "\n",
        "This is the solution for the project. Here we'll implement a `generate` function which supports sampling, `top_k`, and greedy search."
      ]
    },
    {
      "cell_type": "code",
      "execution_count": null,
      "metadata": {
        "id": "gv9WE2POZYU7"
      },
      "outputs": [],
      "source": [
        "from transformers import AutoTokenizer, AutoModelForCausalLM\n",
        "\n",
        "tokenizer = AutoTokenizer.from_pretrained(\"gpt2\")\n",
        "gpt2 = AutoModelForCausalLM.from_pretrained(\"gpt2\")"
      ]
    },
    {
      "cell_type": "code",
      "execution_count": null,
      "metadata": {
        "id": "9bpiOYsGZYU7"
      },
      "outputs": [],
      "source": [
        "import torch.nn.functional as F\n",
        "\n",
        "\n",
        "def generate(\n",
        "    model, tokenizer, input_ids, max_length=50, do_sample=False, top_k=0\n",
        "):\n",
        "    \"\"\"Generate a sequence that starts with `input_ids` without using model.generate().\n",
        "\n",
        "    Args:\n",
        "        model (transformers.PreTrainedModel): The model to use for generation.\n",
        "        tokenizer (transformers.PreTrainedTokenizer): The tokenizer to use for generation.\n",
        "        input_ids (torch.Tensor): The input IDs\n",
        "        max_length (int, optional): The maximum length of the sequence. Defaults to 50.\n",
        "        do_sample (bool, optional): Whether to use sampling. Defaults to False.\n",
        "        top_k (int, optional): The number of tokens to sample from. Defaults to 0.\n",
        "    \"\"\"\n",
        "    current_length = input_ids.size(1)  # Current sequence length\n",
        "\n",
        "    for _ in range(max_length - current_length):\n",
        "        # Pass the current sequence through the model\n",
        "        outputs = model(input_ids)\n",
        "\n",
        "        # Get logits for the last token in the output\n",
        "        next_token_logits = outputs.logits[:, -1, :]\n",
        "\n",
        "        if do_sample:\n",
        "            if top_k > 0:\n",
        "                # Apply Top-K filtering\n",
        "                # Get the indices of the top_k logits\n",
        "                top_k_logits, _ = torch.topk(next_token_logits, top_k)\n",
        "\n",
        "                # Get the smallest token from the top_k logits\n",
        "                min_top_k_value = top_k_logits[:, -1].unsqueeze(-1)\n",
        "\n",
        "                # Set values smaller than the smallest top_k value to -infinity (probability 0)\n",
        "                next_token_logits = torch.where(\n",
        "                    next_token_logits < min_top_k_value,\n",
        "                    torch.tensor(float(\"-inf\")),\n",
        "                    next_token_logits,\n",
        "                )\n",
        "\n",
        "            # Apply softmax to convert logits to probabilities for sampling\n",
        "            probs = F.softmax(next_token_logits, dim=-1)\n",
        "            # Sample the next token from the distribution probability\n",
        "            next_token_id = torch.multinomial(probs, num_samples=1)\n",
        "        else:\n",
        "            # Greedy decoding: choose the token with highest probability\n",
        "            next_token_id = torch.argmax(\n",
        "                next_token_logits, dim=-1, keepdim=True\n",
        "            )\n",
        "\n",
        "        # Append predicted token to the input sequence\n",
        "        input_ids = torch.cat([input_ids, next_token_id], dim=-1)\n",
        "\n",
        "        # If the end of sequence token is generated, stop\n",
        "        if next_token_id == tokenizer.eos_token_id:\n",
        "            break\n",
        "    return tokenizer.decode(input_ids.squeeze(), skip_special_tokens=True)"
      ]
    },
    {
      "cell_type": "code",
      "execution_count": null,
      "metadata": {
        "id": "PP85RjFDZYU7"
      },
      "outputs": [],
      "source": [
        "input_ids = tokenizer(\"It was a dark and stormy\", return_tensors=\"pt\").input_ids"
      ]
    },
    {
      "cell_type": "markdown",
      "metadata": {
        "id": "iOl0wtH4ZYU7"
      },
      "source": [
        "Let's first try greedy decoding. As it's deterministic, this should give you the same content as in Chapter 2, which was\n",
        "\n",
        "> It was a dark and stormy night. The wind was blowing, and the clouds were falling. The wind was blowing, and the"
      ]
    },
    {
      "cell_type": "code",
      "execution_count": null,
      "metadata": {
        "id": "Ufcc6wdBZYU7"
      },
      "outputs": [],
      "source": [
        "generate(gpt2, tokenizer, input_ids, do_sample=False)"
      ]
    },
    {
      "cell_type": "markdown",
      "metadata": {
        "id": "p6m6BResZYU7"
      },
      "source": [
        "Let's now try sampling with `top_k`"
      ]
    },
    {
      "cell_type": "code",
      "execution_count": null,
      "metadata": {
        "id": "srSpWTvCZYU7"
      },
      "outputs": [],
      "source": [
        "generate(gpt2, tokenizer, input_ids, do_sample=True, top_k=10)"
      ]
    },
    {
      "cell_type": "markdown",
      "metadata": {
        "id": "MWw8LlLmZYU7"
      },
      "source": [
        "### Exercises\n",
        "\n",
        "**1. What's the role of the attention mechanism in text generation?**\n",
        "\n",
        "The attention mechanism in text generation allows the model to focus on different parts of the input sequence when producing each token in the output sequence. It helps the model capture long-range dependencies and relationships between words.\n",
        "\n",
        "\n",
        "**2. In which cases would a character-based tokenizer be preferred?**\n",
        "\n",
        "A character-based tokenizer might be preferred in cases where the language involves specific characters, symbols, or emojis that carry meaning. For example, in Chinese, each character carries more information than a character in a Latin language.\n",
        "\n",
        "\n",
        "**3. What happens if you use a tokenizer different from the one used with the model?**\n",
        "\n",
        "Using a different tokenizer can cause a tokenizer mismatch, leading to inconsistencies in tokenization. This misalignment can result in unexpected or incorrect model outputs.\n",
        "\n",
        "**4. What's the risk of using `no_repeat_ngram_size` when doing generation? (Hint: Think of city names.)**\n",
        "\n",
        "If you use a `no_repeat_ngram_size=3`, the \"New York City\" string will only be generated once. If you're using a generative model to generate a story in NYC, using this penalty will severily hurt it!\n",
        "\n",
        "**5. What would happen if you combine Beam-search and sampling?**\n",
        "\n",
        "With beam search, we maintain the `k` best sequences at each timestep. Instead of determinisitcally choosing the top `k` sequences based on the score, we use a probabilistic element and sample the next token from the probability distribution.\n",
        "\n",
        "This can lead to increased diversity (no repetitive outputs of Beam-search), improved quality (no unpredictable outputs of sampling), and a balance between the two. However, it can require more computational resources due to the increased number of sequences to maintain and sample from.\n",
        "\n",
        "**6. Imagine you're using a LLM that generates code in a code editor by doing sampling. What would be more convenient? A low temperature or a high temperature?**\n",
        "\n",
        "In code generation, a low temperature is more convenient as it generates more deterministic and conservative code, adhering to common patterns and reducing the risk of errors. A high temperature would introduce more randomness and could result in unconventional or less reliable code. Therefore, a low temperature is typically preferred.\n",
        "\n",
        "\n",
        "**7. What’s the importance of fine-tuning, and why is it different from zero-shot generation?**\n",
        "\n",
        "Fine-tuning is crucial for adapting a pre-trained language model to specific tasks or domains. It allows the model to learn task-specific nuances and improves performance on targeted applications. This differs from zero-shot generation, where the model is used without task-specific training.\n",
        "\n",
        "\n",
        "**8. Explain the differences and applications of encoder, decoder, and encoderdecoder transformers.**\n",
        "\n",
        "* **Encoder**: Specialized in processing input sequences and extracting meaningful representations. It's commonly used for tasks like classification, sentiment analysis, and document embeddings. Examples include BERT and RoBERTa.\n",
        "* **Decoder**: Specialized in generating output sequences based on given input. It's often used for text generation tasks. Examples include GPT-2 and T5.\n",
        "* **Encoder-Decoder**: Combines both an encoder and a decoder. The encoder processes the input sequence into a set of representations, which the decoder then uses to generate an output sequence. It's ideal for sequence-to-sequence tasks such as machine translation, text summarization, and question answering. Examples include BART and T5."
      ]
    },
    {
      "cell_type": "markdown",
      "metadata": {
        "id": "MkqZfUX6ZYU7"
      },
      "source": [
        "### Challenges\n",
        "\n",
        "**9. Summarization. Use a summarization model (you can do `pipeline(\"summarization)`) to generate summaries of a paragraph. How does it compare with the results of using zero-shot? Can it be beaten by providing few-shot examples?**"
      ]
    },
    {
      "cell_type": "markdown",
      "metadata": {
        "id": "h4_n-I_RZYU8"
      },
      "source": [
        "Let's first solve this using a summarization model. We'll use a default model, but note that it's a small model from 2020. The results might not be as good as the latest or larger models."
      ]
    },
    {
      "cell_type": "code",
      "execution_count": null,
      "metadata": {
        "id": "3hp4bfsZZYU8"
      },
      "outputs": [],
      "source": [
        "from transformers import pipeline\n",
        "\n",
        "summarizer = pipeline(\"summarization\")"
      ]
    },
    {
      "cell_type": "code",
      "execution_count": null,
      "metadata": {
        "id": "BmJJd7m5ZYU8"
      },
      "outputs": [],
      "source": [
        "long_text = \"\"\"\n",
        "    America has changed dramatically during recent years. Not only has the number of\n",
        "    graduates in traditional engineering disciplines such as mechanical, civil,\n",
        "    electrical, chemical, and aeronautical engineering declined, but in most of\n",
        "    the premier American universities engineering curricula now concentrate on\n",
        "    and encourage largely the study of engineering science. As a result, there\n",
        "    are declining offerings in engineering subjects dealing with infrastructure,\n",
        "    the environment, and related issues, and greater concentration on high\n",
        "    technology subjects, largely supporting increasingly complex scientific\n",
        "    developments. While the latter is important, it should not be at the expense\n",
        "    of more traditional engineering.\n",
        "\n",
        "    Rapidly developing economies such as China and India, as well as other\n",
        "    industrial countries in Europe and Asia, continue to encourage and advance\n",
        "    the teaching of engineering. Both China and India, respectively, graduate\n",
        "    six and eight times as many traditional engineers as does the United States.\n",
        "    Other industrial countries at minimum maintain their output, while America\n",
        "    suffers an increasingly serious decline in the number of engineering graduates\n",
        "    and a lack of well-educated engineers.\n",
        "\"\"\""
      ]
    },
    {
      "cell_type": "code",
      "execution_count": null,
      "metadata": {
        "id": "QxEjLKoDZYU8"
      },
      "outputs": [],
      "source": [
        "summarizer(long_text)"
      ]
    },
    {
      "cell_type": "markdown",
      "metadata": {
        "id": "PbFwrqQyZYU8"
      },
      "source": [
        "Let's now try with a text generation model."
      ]
    },
    {
      "cell_type": "code",
      "execution_count": null,
      "metadata": {
        "id": "bwqrvylAZYU8"
      },
      "outputs": [],
      "source": [
        "generator = pipeline(\"text-generation\", model=\"EleutherAI/gpt-neo-1.3B\")"
      ]
    },
    {
      "cell_type": "code",
      "execution_count": null,
      "metadata": {
        "id": "o98DDJonZYU8"
      },
      "outputs": [],
      "source": [
        "def summarize_with_zero_shot(long_text):\n",
        "    zero_shot = generator(\n",
        "        f\"{long_text}.\\\\n Summary:\\\\n\",\n",
        "        return_full_text=False,\n",
        "        max_length=350,\n",
        "    )\n",
        "\n",
        "    return zero_shot"
      ]
    },
    {
      "cell_type": "code",
      "execution_count": null,
      "metadata": {
        "id": "MxvrjmBbZYU8"
      },
      "outputs": [],
      "source": [
        "summarize_with_zero_shot(long_text)"
      ]
    },
    {
      "cell_type": "markdown",
      "metadata": {
        "id": "2Xes1m35ZYU8"
      },
      "source": [
        "Can you achieve better results by improving the prompt or adding some examples to it?"
      ]
    },
    {
      "cell_type": "markdown",
      "metadata": {
        "id": "s9vm7xH2ZYU8"
      },
      "source": [
        "**10. Sentiment Analysis. In the zero-shot supplementary material, we calculate some metrics using zero-shot classification. Explore using the `distilbert-base-uncased-finetuned-sst-2-english` encoder model that can do sentiment analysis. What results do you get?**\n",
        "\n",
        "Let's first recall how to use this model. We can either use the `pipeline(\"text-classification\")` approach, or load the model directly with `AutoModel`, which would require handling the tokenization ourselves. We'll want to use `truncation` just as in the zero-shot example above. We begin loading the model and tokenizer. Note that we use `AutoModelForSequenceClassification` to make sure to load the classification layer as well."
      ]
    },
    {
      "cell_type": "code",
      "execution_count": null,
      "metadata": {
        "id": "BWqhm9ZUZYU8"
      },
      "outputs": [],
      "source": [
        "from transformers import AutoModelForSequenceClassification, AutoTokenizer\n",
        "\n",
        "checkpoint = \"distilbert-base-uncased-finetuned-sst-2-english\"\n",
        "tokenizer = AutoTokenizer.from_pretrained(checkpoint)\n",
        "model = AutoModelForSequenceClassification.from_pretrained(checkpoint)"
      ]
    },
    {
      "cell_type": "markdown",
      "metadata": {
        "id": "-u6JJHGmZYU8"
      },
      "source": [
        "Let's get the output with a specific example."
      ]
    },
    {
      "cell_type": "code",
      "execution_count": null,
      "metadata": {
        "id": "BSv0CaljZYU8"
      },
      "outputs": [],
      "source": [
        "input_ids = tokenizer(\n",
        "    \"This movie was terrible!\", truncation=True, return_tensors=\"pt\"\n",
        ").input_ids\n",
        "classifier_output = model(input_ids)\n",
        "classifier_output"
      ]
    },
    {
      "cell_type": "markdown",
      "metadata": {
        "id": "c3YVxAqIZYU8"
      },
      "source": [
        "The output is two logits, which tell us that the first class is more likely than the second. Programmatically, we can do an `argmax` over the `logits` tensor to get the index of the highest value."
      ]
    },
    {
      "cell_type": "code",
      "execution_count": null,
      "metadata": {
        "id": "r5w9EpnyZYU8"
      },
      "outputs": [],
      "source": [
        "predicted_class_id = classifier_output.logits.argmax().item()\n",
        "predicted_class_id"
      ]
    },
    {
      "cell_type": "markdown",
      "metadata": {
        "id": "O99wyHL4ZYU8"
      },
      "source": [
        "To which class does the 0 correspond to? Using the model configuration `id2label`, we can obtain the corresponding class"
      ]
    },
    {
      "cell_type": "code",
      "execution_count": null,
      "metadata": {
        "id": "mBT9tTLfZYU8"
      },
      "outputs": [],
      "source": [
        "model.config.id2label"
      ]
    },
    {
      "cell_type": "markdown",
      "metadata": {
        "id": "77oAiP3UZYU8"
      },
      "source": [
        "And using the model configuration, we can get which label correspond to that id."
      ]
    },
    {
      "cell_type": "code",
      "execution_count": null,
      "metadata": {
        "id": "LJkyCrMGZYU8"
      },
      "outputs": [],
      "source": [
        "model.config.id2label[predicted_class_id]"
      ]
    },
    {
      "cell_type": "markdown",
      "metadata": {
        "id": "MO2n9auPZYU8"
      },
      "source": [
        "Let's wrap this in a function"
      ]
    },
    {
      "cell_type": "code",
      "execution_count": null,
      "metadata": {
        "id": "rDIEHpJJZYU9"
      },
      "outputs": [],
      "source": [
        "def score_with_classifier(sample):\n",
        "    \"\"\"Given a review, predict whether it is positive or negative\"\"\"\n",
        "    input_ids = tokenizer(\n",
        "        sample[\"text\"], truncation=True, return_tensors=\"pt\"\n",
        "    ).input_ids\n",
        "    classifier_output = model(input_ids)\n",
        "    sample[\"pred\"] = classifier_output.logits.argmax().item()\n",
        "\n",
        "    return sample"
      ]
    },
    {
      "cell_type": "code",
      "execution_count": null,
      "metadata": {
        "id": "79u2nMVQZYU9"
      },
      "outputs": [],
      "source": [
        "score_with_classifier({\"text\": \"This movie was terrible!\"})"
      ]
    },
    {
      "cell_type": "code",
      "execution_count": null,
      "metadata": {
        "id": "pLdId2-iZYU9"
      },
      "outputs": [],
      "source": [
        "updated_dataset = small_dataset.map(score_with_classifier)\n",
        "updated_dataset"
      ]
    },
    {
      "cell_type": "code",
      "execution_count": null,
      "metadata": {
        "id": "QsZ9TXo0ZYU9"
      },
      "outputs": [],
      "source": [
        "cm = confusion_matrix.compute(\n",
        "    references=updated_dataset[\"label\"], predictions=updated_dataset[\"pred\"]\n",
        ")\n",
        "cm"
      ]
    },
    {
      "cell_type": "code",
      "execution_count": null,
      "metadata": {
        "id": "iqZYtpdnZYU9"
      },
      "outputs": [],
      "source": [
        "fig, ax = plt.subplots(figsize=(6, 6))\n",
        "disp = ConfusionMatrixDisplay(\n",
        "    confusion_matrix=cm[\"confusion_matrix\"],\n",
        "    display_labels=[\"negative\", \"positive\"],\n",
        ")\n",
        "disp.plot(cmap=\"Blues\", values_format=\".2f\", ax=ax, colorbar=False)\n",
        "\n",
        "plt.title(\"Normalized confusion matrix\")\n",
        "plt.show()"
      ]
    },
    {
      "cell_type": "markdown",
      "metadata": {
        "id": "XRo8IpGSZYU9"
      },
      "source": [
        "Impressive! This sentiment analysis classifier performs much better than the zero-shot setup, specially for positive reviews which were being misclassified as negative."
      ]
    },
    {
      "cell_type": "markdown",
      "metadata": {
        "id": "49N39k3QZYU9"
      },
      "source": [
        "**11. Semantic Search. Let's build a FAQ system! ! Sentence transformers are powerful models that can measure semantic text similarity. While the transformer encoder usually outputs an embedding for each token, sentence transformers output an embedding for the whole input text, allowing us to determine if two texts have similar meanings based on their similarity score. Let’s look at a simple example using the `sentence_transformers` library.**"
      ]
    },
    {
      "cell_type": "markdown",
      "metadata": {
        "id": "7KFbFACcZYU9"
      },
      "source": [
        "This is the example provided in the book. We first load the `all-MiniLM-L6-v2` model from the Hub. We then use it to compute the embedding of two sentences using the `encode` method. Each is a tensor (vector) of 384 values. We finally compute the cosine similarity to determine how close both tensors are."
      ]
    },
    {
      "cell_type": "code",
      "execution_count": null,
      "metadata": {
        "id": "uBuBbkg8ZYU9"
      },
      "outputs": [],
      "source": [
        "from sentence_transformers import SentenceTransformer, util\n",
        "\n",
        "sentences = [\"I'm happy\", \"I'm full of happiness\"]\n",
        "model = SentenceTransformer(\"sentence-transformers/all-MiniLM-L6-v2\")\n",
        "\n",
        "# Compute embedding for both lists\n",
        "embedding_1 = model.encode(sentences[0], convert_to_tensor=True)\n",
        "embedding_2 = model.encode(sentences[1], convert_to_tensor=True)\n",
        "\n",
        "util.pytorch_cos_sim(embedding_1, embedding_2)"
      ]
    },
    {
      "cell_type": "markdown",
      "metadata": {
        "id": "ho9h5sgtZYU9"
      },
      "source": [
        "We'll write a dictionary of 5 questions and answers based on Medicare FAQ website."
      ]
    },
    {
      "cell_type": "code",
      "execution_count": null,
      "metadata": {
        "id": "WTJmA6QTZYU9"
      },
      "outputs": [],
      "source": [
        "# Data from https://faq.ssa.gov/en-US/topic/?id=CAT-01092\n",
        "\n",
        "faq = {\n",
        "    \"How do I get a replacement Medicare card?\": \"If your Medicare card was lost, stolen, or destroyed, you can request a replacement online at Medicare.gov.\",\n",
        "    \"How do I sign up for Medicare?\": \"If you already get Social Security benefits, you do not need to sign up for Medicare. We will automatically enroll you in Original Medicare (Part A and Part B) when you become eligible. We will mail you the information a few months before you become eligible.\",\n",
        "    \"What are Medicare late enrollment penalties?\": \"In most cases, if you don’t sign up for Medicare when you’re first eligible, you may have to pay a higher monthly premium. Find more information at https://faq.ssa.gov/en-us/Topic/article/KA-02995\",\n",
        "    \"Will my Medicare premiums be higher because of my higher income?\": \"Some people with higher income may pay a larger percentage of their monthly Medicare Part B and prescription drug costs based on their income. We call the additional amount the income-related monthly adjustment amount.\",\n",
        "    \"What is Medicare and who can get it?\": \"Medicare is a health insurance program for people age 65 or older. Some younger people are eligible for Medicare including people with disabilities, permanent kidney failure and amyotrophic lateral sclerosis (Lou Gehrig’s disease or ALS). Medicare helps with the cost of health care, but it does not cover all medical expenses or the cost of most long-term care.\",\n",
        "}"
      ]
    },
    {
      "cell_type": "markdown",
      "metadata": {
        "id": "Tex9LE-iZYU9"
      },
      "source": [
        "We can use the `encode` method to compute the embedding of the 5 questions."
      ]
    },
    {
      "cell_type": "code",
      "execution_count": null,
      "metadata": {
        "id": "2W_2SpkqZYU9"
      },
      "outputs": [],
      "source": [
        "corpus_embeddings = model.encode(list(faq.values()), convert_to_tensor=True)\n",
        "print(corpus_embeddings.shape)"
      ]
    },
    {
      "cell_type": "markdown",
      "metadata": {
        "id": "BZAf80NeZYU9"
      },
      "source": [
        "Now, in a production setup, a user would input a question. We can compute its embedding as well."
      ]
    },
    {
      "cell_type": "code",
      "execution_count": null,
      "metadata": {
        "id": "y9nF8RcFZYU9"
      },
      "outputs": [],
      "source": [
        "user_question = \"Do I need to pay more after a raise?\"\n",
        "query_embedding = model.encode(user_question, convert_to_tensor=True)\n",
        "query_embedding.shape"
      ]
    },
    {
      "cell_type": "markdown",
      "metadata": {
        "id": "bjof69tfZYU9"
      },
      "source": [
        "Now, using cosine similarity, we can retrieve the most similar questions from the database - that is, we retrieve the most similar questions based on the highest similarity.\n",
        "\n",
        "Using `argsort`, we get the top 3 questions and print them."
      ]
    },
    {
      "cell_type": "code",
      "execution_count": null,
      "metadata": {
        "id": "6E0FZe-qZYU-"
      },
      "outputs": [],
      "source": [
        "import numpy as np\n",
        "\n",
        "similarities = -util.pytorch_cos_sim(query_embedding, corpus_embeddings)[0]\n",
        "top_3 = similarities.cpu().argsort()[:3]\n",
        "for i, top_n in enumerate(top_3):\n",
        "    print(\n",
        "        f\"Top {i+1} question (p={-similarities[top_n]}): {list(faq.keys())[top_n]}\"\n",
        "    )\n",
        "    print(f\"Answer: {list(faq.values())[top_n]}\")"
      ]
    },
    {
      "cell_type": "markdown",
      "metadata": {
        "id": "HGvfwo0BZYU-"
      },
      "source": [
        "`sentence_transformers` also offers a convenient utility called `semantic_search` for exactly this use case."
      ]
    },
    {
      "cell_type": "code",
      "execution_count": null,
      "metadata": {
        "id": "4kWzu-4kZYU-"
      },
      "outputs": [],
      "source": [
        "similarities = util.semantic_search(\n",
        "    query_embedding, corpus_embeddings, top_k=3\n",
        ")[0]\n",
        "for i, result in enumerate(similarities):\n",
        "    corpus_id = result[\"corpus_id\"]\n",
        "    score = result[\"score\"]\n",
        "    print(f\"Top {i+1} question (p={score}): {list(faq.keys())[corpus_id]}\")\n",
        "    print(f\"Answer: {list(faq.values())[corpus_id]}\")"
      ]
    },
    {
      "cell_type": "code",
      "execution_count": null,
      "metadata": {
        "id": "p3sszW-6ZYU-"
      },
      "outputs": [],
      "source": []
    }
  ],
  "metadata": {
    "kernelspec": {
      "display_name": "python3",
      "name": "python3"
    },
    "language_info": {
      "codemirror_mode": {
        "name": "ipython",
        "version": 3
      },
      "file_extension": ".py",
      "mimetype": "text/x-python",
      "name": "python",
      "nbconvert_exporter": "python",
      "pygments_lexer": "ipython3",
      "version": "3.10.13"
    },
    "widgets": {
      "application/vnd.jupyter.widget-state+json": {
        "a3a65a1e276f4f4d85f59ac274dc6458": {
          "model_module": "@jupyter-widgets/controls",
          "model_name": "HBoxModel",
          "model_module_version": "1.5.0",
          "state": {
            "_dom_classes": [],
            "_model_module": "@jupyter-widgets/controls",
            "_model_module_version": "1.5.0",
            "_model_name": "HBoxModel",
            "_view_count": null,
            "_view_module": "@jupyter-widgets/controls",
            "_view_module_version": "1.5.0",
            "_view_name": "HBoxView",
            "box_style": "",
            "children": [
              "IPY_MODEL_4f01e6c7eb3b4e58bb8707653171d210",
              "IPY_MODEL_6d708abdf40440d0b6d7576ac781c137",
              "IPY_MODEL_2bfc95e625d04f6cbdd403ca9d9ea6eb"
            ],
            "layout": "IPY_MODEL_b8b1ea0344f64af2a7e15a92e4afa0e1"
          }
        },
        "4f01e6c7eb3b4e58bb8707653171d210": {
          "model_module": "@jupyter-widgets/controls",
          "model_name": "HTMLModel",
          "model_module_version": "1.5.0",
          "state": {
            "_dom_classes": [],
            "_model_module": "@jupyter-widgets/controls",
            "_model_module_version": "1.5.0",
            "_model_name": "HTMLModel",
            "_view_count": null,
            "_view_module": "@jupyter-widgets/controls",
            "_view_module_version": "1.5.0",
            "_view_name": "HTMLView",
            "description": "",
            "description_tooltip": null,
            "layout": "IPY_MODEL_cf3aea012fa643f4b1d8e88d01541d89",
            "placeholder": "​",
            "style": "IPY_MODEL_f2aaee906d7b430794a4903c7adfa7e5",
            "value": "tokenizer_config.json: 100%"
          }
        },
        "6d708abdf40440d0b6d7576ac781c137": {
          "model_module": "@jupyter-widgets/controls",
          "model_name": "FloatProgressModel",
          "model_module_version": "1.5.0",
          "state": {
            "_dom_classes": [],
            "_model_module": "@jupyter-widgets/controls",
            "_model_module_version": "1.5.0",
            "_model_name": "FloatProgressModel",
            "_view_count": null,
            "_view_module": "@jupyter-widgets/controls",
            "_view_module_version": "1.5.0",
            "_view_name": "ProgressView",
            "bar_style": "success",
            "description": "",
            "description_tooltip": null,
            "layout": "IPY_MODEL_38a49e96edec4a37b4d670c3d30ea9e4",
            "max": 1289,
            "min": 0,
            "orientation": "horizontal",
            "style": "IPY_MODEL_e574c13e4b394f5296664372a35221ff",
            "value": 1289
          }
        },
        "2bfc95e625d04f6cbdd403ca9d9ea6eb": {
          "model_module": "@jupyter-widgets/controls",
          "model_name": "HTMLModel",
          "model_module_version": "1.5.0",
          "state": {
            "_dom_classes": [],
            "_model_module": "@jupyter-widgets/controls",
            "_model_module_version": "1.5.0",
            "_model_name": "HTMLModel",
            "_view_count": null,
            "_view_module": "@jupyter-widgets/controls",
            "_view_module_version": "1.5.0",
            "_view_name": "HTMLView",
            "description": "",
            "description_tooltip": null,
            "layout": "IPY_MODEL_20805f8d69f045f5868d32b0d7017742",
            "placeholder": "​",
            "style": "IPY_MODEL_bf5ed52a58cd44bcac9afa8ee4878600",
            "value": " 1.29k/1.29k [00:00&lt;00:00, 22.3kB/s]"
          }
        },
        "b8b1ea0344f64af2a7e15a92e4afa0e1": {
          "model_module": "@jupyter-widgets/base",
          "model_name": "LayoutModel",
          "model_module_version": "1.2.0",
          "state": {
            "_model_module": "@jupyter-widgets/base",
            "_model_module_version": "1.2.0",
            "_model_name": "LayoutModel",
            "_view_count": null,
            "_view_module": "@jupyter-widgets/base",
            "_view_module_version": "1.2.0",
            "_view_name": "LayoutView",
            "align_content": null,
            "align_items": null,
            "align_self": null,
            "border": null,
            "bottom": null,
            "display": null,
            "flex": null,
            "flex_flow": null,
            "grid_area": null,
            "grid_auto_columns": null,
            "grid_auto_flow": null,
            "grid_auto_rows": null,
            "grid_column": null,
            "grid_gap": null,
            "grid_row": null,
            "grid_template_areas": null,
            "grid_template_columns": null,
            "grid_template_rows": null,
            "height": null,
            "justify_content": null,
            "justify_items": null,
            "left": null,
            "margin": null,
            "max_height": null,
            "max_width": null,
            "min_height": null,
            "min_width": null,
            "object_fit": null,
            "object_position": null,
            "order": null,
            "overflow": null,
            "overflow_x": null,
            "overflow_y": null,
            "padding": null,
            "right": null,
            "top": null,
            "visibility": null,
            "width": null
          }
        },
        "cf3aea012fa643f4b1d8e88d01541d89": {
          "model_module": "@jupyter-widgets/base",
          "model_name": "LayoutModel",
          "model_module_version": "1.2.0",
          "state": {
            "_model_module": "@jupyter-widgets/base",
            "_model_module_version": "1.2.0",
            "_model_name": "LayoutModel",
            "_view_count": null,
            "_view_module": "@jupyter-widgets/base",
            "_view_module_version": "1.2.0",
            "_view_name": "LayoutView",
            "align_content": null,
            "align_items": null,
            "align_self": null,
            "border": null,
            "bottom": null,
            "display": null,
            "flex": null,
            "flex_flow": null,
            "grid_area": null,
            "grid_auto_columns": null,
            "grid_auto_flow": null,
            "grid_auto_rows": null,
            "grid_column": null,
            "grid_gap": null,
            "grid_row": null,
            "grid_template_areas": null,
            "grid_template_columns": null,
            "grid_template_rows": null,
            "height": null,
            "justify_content": null,
            "justify_items": null,
            "left": null,
            "margin": null,
            "max_height": null,
            "max_width": null,
            "min_height": null,
            "min_width": null,
            "object_fit": null,
            "object_position": null,
            "order": null,
            "overflow": null,
            "overflow_x": null,
            "overflow_y": null,
            "padding": null,
            "right": null,
            "top": null,
            "visibility": null,
            "width": null
          }
        },
        "f2aaee906d7b430794a4903c7adfa7e5": {
          "model_module": "@jupyter-widgets/controls",
          "model_name": "DescriptionStyleModel",
          "model_module_version": "1.5.0",
          "state": {
            "_model_module": "@jupyter-widgets/controls",
            "_model_module_version": "1.5.0",
            "_model_name": "DescriptionStyleModel",
            "_view_count": null,
            "_view_module": "@jupyter-widgets/base",
            "_view_module_version": "1.2.0",
            "_view_name": "StyleView",
            "description_width": ""
          }
        },
        "38a49e96edec4a37b4d670c3d30ea9e4": {
          "model_module": "@jupyter-widgets/base",
          "model_name": "LayoutModel",
          "model_module_version": "1.2.0",
          "state": {
            "_model_module": "@jupyter-widgets/base",
            "_model_module_version": "1.2.0",
            "_model_name": "LayoutModel",
            "_view_count": null,
            "_view_module": "@jupyter-widgets/base",
            "_view_module_version": "1.2.0",
            "_view_name": "LayoutView",
            "align_content": null,
            "align_items": null,
            "align_self": null,
            "border": null,
            "bottom": null,
            "display": null,
            "flex": null,
            "flex_flow": null,
            "grid_area": null,
            "grid_auto_columns": null,
            "grid_auto_flow": null,
            "grid_auto_rows": null,
            "grid_column": null,
            "grid_gap": null,
            "grid_row": null,
            "grid_template_areas": null,
            "grid_template_columns": null,
            "grid_template_rows": null,
            "height": null,
            "justify_content": null,
            "justify_items": null,
            "left": null,
            "margin": null,
            "max_height": null,
            "max_width": null,
            "min_height": null,
            "min_width": null,
            "object_fit": null,
            "object_position": null,
            "order": null,
            "overflow": null,
            "overflow_x": null,
            "overflow_y": null,
            "padding": null,
            "right": null,
            "top": null,
            "visibility": null,
            "width": null
          }
        },
        "e574c13e4b394f5296664372a35221ff": {
          "model_module": "@jupyter-widgets/controls",
          "model_name": "ProgressStyleModel",
          "model_module_version": "1.5.0",
          "state": {
            "_model_module": "@jupyter-widgets/controls",
            "_model_module_version": "1.5.0",
            "_model_name": "ProgressStyleModel",
            "_view_count": null,
            "_view_module": "@jupyter-widgets/base",
            "_view_module_version": "1.2.0",
            "_view_name": "StyleView",
            "bar_color": null,
            "description_width": ""
          }
        },
        "20805f8d69f045f5868d32b0d7017742": {
          "model_module": "@jupyter-widgets/base",
          "model_name": "LayoutModel",
          "model_module_version": "1.2.0",
          "state": {
            "_model_module": "@jupyter-widgets/base",
            "_model_module_version": "1.2.0",
            "_model_name": "LayoutModel",
            "_view_count": null,
            "_view_module": "@jupyter-widgets/base",
            "_view_module_version": "1.2.0",
            "_view_name": "LayoutView",
            "align_content": null,
            "align_items": null,
            "align_self": null,
            "border": null,
            "bottom": null,
            "display": null,
            "flex": null,
            "flex_flow": null,
            "grid_area": null,
            "grid_auto_columns": null,
            "grid_auto_flow": null,
            "grid_auto_rows": null,
            "grid_column": null,
            "grid_gap": null,
            "grid_row": null,
            "grid_template_areas": null,
            "grid_template_columns": null,
            "grid_template_rows": null,
            "height": null,
            "justify_content": null,
            "justify_items": null,
            "left": null,
            "margin": null,
            "max_height": null,
            "max_width": null,
            "min_height": null,
            "min_width": null,
            "object_fit": null,
            "object_position": null,
            "order": null,
            "overflow": null,
            "overflow_x": null,
            "overflow_y": null,
            "padding": null,
            "right": null,
            "top": null,
            "visibility": null,
            "width": null
          }
        },
        "bf5ed52a58cd44bcac9afa8ee4878600": {
          "model_module": "@jupyter-widgets/controls",
          "model_name": "DescriptionStyleModel",
          "model_module_version": "1.5.0",
          "state": {
            "_model_module": "@jupyter-widgets/controls",
            "_model_module_version": "1.5.0",
            "_model_name": "DescriptionStyleModel",
            "_view_count": null,
            "_view_module": "@jupyter-widgets/base",
            "_view_module_version": "1.2.0",
            "_view_name": "StyleView",
            "description_width": ""
          }
        },
        "6ad2c817be464636910a0010844336e5": {
          "model_module": "@jupyter-widgets/controls",
          "model_name": "HBoxModel",
          "model_module_version": "1.5.0",
          "state": {
            "_dom_classes": [],
            "_model_module": "@jupyter-widgets/controls",
            "_model_module_version": "1.5.0",
            "_model_name": "HBoxModel",
            "_view_count": null,
            "_view_module": "@jupyter-widgets/controls",
            "_view_module_version": "1.5.0",
            "_view_name": "HBoxView",
            "box_style": "",
            "children": [
              "IPY_MODEL_3b3473e12a614f7387e77bbe6f5ef1a6",
              "IPY_MODEL_5d417ce5165b415fa64b647144d4394c",
              "IPY_MODEL_49f43dab12d548c4893a58b25c64c14d"
            ],
            "layout": "IPY_MODEL_2fbb9beecc034a03a606c16b9f468ec7"
          }
        },
        "3b3473e12a614f7387e77bbe6f5ef1a6": {
          "model_module": "@jupyter-widgets/controls",
          "model_name": "HTMLModel",
          "model_module_version": "1.5.0",
          "state": {
            "_dom_classes": [],
            "_model_module": "@jupyter-widgets/controls",
            "_model_module_version": "1.5.0",
            "_model_name": "HTMLModel",
            "_view_count": null,
            "_view_module": "@jupyter-widgets/controls",
            "_view_module_version": "1.5.0",
            "_view_name": "HTMLView",
            "description": "",
            "description_tooltip": null,
            "layout": "IPY_MODEL_edb6d2e2393b40528fa3281c39e12b08",
            "placeholder": "​",
            "style": "IPY_MODEL_164bd410ca1e44b4982fa69ae2513595",
            "value": "vocab.json: 100%"
          }
        },
        "5d417ce5165b415fa64b647144d4394c": {
          "model_module": "@jupyter-widgets/controls",
          "model_name": "FloatProgressModel",
          "model_module_version": "1.5.0",
          "state": {
            "_dom_classes": [],
            "_model_module": "@jupyter-widgets/controls",
            "_model_module_version": "1.5.0",
            "_model_name": "FloatProgressModel",
            "_view_count": null,
            "_view_module": "@jupyter-widgets/controls",
            "_view_module_version": "1.5.0",
            "_view_name": "ProgressView",
            "bar_style": "success",
            "description": "",
            "description_tooltip": null,
            "layout": "IPY_MODEL_73f21f9a6bf942f5a5574a03b0bd42bd",
            "max": 2776833,
            "min": 0,
            "orientation": "horizontal",
            "style": "IPY_MODEL_ee67427c77df42d389103216bf88f658",
            "value": 2776833
          }
        },
        "49f43dab12d548c4893a58b25c64c14d": {
          "model_module": "@jupyter-widgets/controls",
          "model_name": "HTMLModel",
          "model_module_version": "1.5.0",
          "state": {
            "_dom_classes": [],
            "_model_module": "@jupyter-widgets/controls",
            "_model_module_version": "1.5.0",
            "_model_name": "HTMLModel",
            "_view_count": null,
            "_view_module": "@jupyter-widgets/controls",
            "_view_module_version": "1.5.0",
            "_view_name": "HTMLView",
            "description": "",
            "description_tooltip": null,
            "layout": "IPY_MODEL_364217fea7bc4d2797260d1fe8db3cd2",
            "placeholder": "​",
            "style": "IPY_MODEL_18658ae813834272a40b03ca32740ff4",
            "value": " 2.78M/2.78M [00:00&lt;00:00, 11.0MB/s]"
          }
        },
        "2fbb9beecc034a03a606c16b9f468ec7": {
          "model_module": "@jupyter-widgets/base",
          "model_name": "LayoutModel",
          "model_module_version": "1.2.0",
          "state": {
            "_model_module": "@jupyter-widgets/base",
            "_model_module_version": "1.2.0",
            "_model_name": "LayoutModel",
            "_view_count": null,
            "_view_module": "@jupyter-widgets/base",
            "_view_module_version": "1.2.0",
            "_view_name": "LayoutView",
            "align_content": null,
            "align_items": null,
            "align_self": null,
            "border": null,
            "bottom": null,
            "display": null,
            "flex": null,
            "flex_flow": null,
            "grid_area": null,
            "grid_auto_columns": null,
            "grid_auto_flow": null,
            "grid_auto_rows": null,
            "grid_column": null,
            "grid_gap": null,
            "grid_row": null,
            "grid_template_areas": null,
            "grid_template_columns": null,
            "grid_template_rows": null,
            "height": null,
            "justify_content": null,
            "justify_items": null,
            "left": null,
            "margin": null,
            "max_height": null,
            "max_width": null,
            "min_height": null,
            "min_width": null,
            "object_fit": null,
            "object_position": null,
            "order": null,
            "overflow": null,
            "overflow_x": null,
            "overflow_y": null,
            "padding": null,
            "right": null,
            "top": null,
            "visibility": null,
            "width": null
          }
        },
        "edb6d2e2393b40528fa3281c39e12b08": {
          "model_module": "@jupyter-widgets/base",
          "model_name": "LayoutModel",
          "model_module_version": "1.2.0",
          "state": {
            "_model_module": "@jupyter-widgets/base",
            "_model_module_version": "1.2.0",
            "_model_name": "LayoutModel",
            "_view_count": null,
            "_view_module": "@jupyter-widgets/base",
            "_view_module_version": "1.2.0",
            "_view_name": "LayoutView",
            "align_content": null,
            "align_items": null,
            "align_self": null,
            "border": null,
            "bottom": null,
            "display": null,
            "flex": null,
            "flex_flow": null,
            "grid_area": null,
            "grid_auto_columns": null,
            "grid_auto_flow": null,
            "grid_auto_rows": null,
            "grid_column": null,
            "grid_gap": null,
            "grid_row": null,
            "grid_template_areas": null,
            "grid_template_columns": null,
            "grid_template_rows": null,
            "height": null,
            "justify_content": null,
            "justify_items": null,
            "left": null,
            "margin": null,
            "max_height": null,
            "max_width": null,
            "min_height": null,
            "min_width": null,
            "object_fit": null,
            "object_position": null,
            "order": null,
            "overflow": null,
            "overflow_x": null,
            "overflow_y": null,
            "padding": null,
            "right": null,
            "top": null,
            "visibility": null,
            "width": null
          }
        },
        "164bd410ca1e44b4982fa69ae2513595": {
          "model_module": "@jupyter-widgets/controls",
          "model_name": "DescriptionStyleModel",
          "model_module_version": "1.5.0",
          "state": {
            "_model_module": "@jupyter-widgets/controls",
            "_model_module_version": "1.5.0",
            "_model_name": "DescriptionStyleModel",
            "_view_count": null,
            "_view_module": "@jupyter-widgets/base",
            "_view_module_version": "1.2.0",
            "_view_name": "StyleView",
            "description_width": ""
          }
        },
        "73f21f9a6bf942f5a5574a03b0bd42bd": {
          "model_module": "@jupyter-widgets/base",
          "model_name": "LayoutModel",
          "model_module_version": "1.2.0",
          "state": {
            "_model_module": "@jupyter-widgets/base",
            "_model_module_version": "1.2.0",
            "_model_name": "LayoutModel",
            "_view_count": null,
            "_view_module": "@jupyter-widgets/base",
            "_view_module_version": "1.2.0",
            "_view_name": "LayoutView",
            "align_content": null,
            "align_items": null,
            "align_self": null,
            "border": null,
            "bottom": null,
            "display": null,
            "flex": null,
            "flex_flow": null,
            "grid_area": null,
            "grid_auto_columns": null,
            "grid_auto_flow": null,
            "grid_auto_rows": null,
            "grid_column": null,
            "grid_gap": null,
            "grid_row": null,
            "grid_template_areas": null,
            "grid_template_columns": null,
            "grid_template_rows": null,
            "height": null,
            "justify_content": null,
            "justify_items": null,
            "left": null,
            "margin": null,
            "max_height": null,
            "max_width": null,
            "min_height": null,
            "min_width": null,
            "object_fit": null,
            "object_position": null,
            "order": null,
            "overflow": null,
            "overflow_x": null,
            "overflow_y": null,
            "padding": null,
            "right": null,
            "top": null,
            "visibility": null,
            "width": null
          }
        },
        "ee67427c77df42d389103216bf88f658": {
          "model_module": "@jupyter-widgets/controls",
          "model_name": "ProgressStyleModel",
          "model_module_version": "1.5.0",
          "state": {
            "_model_module": "@jupyter-widgets/controls",
            "_model_module_version": "1.5.0",
            "_model_name": "ProgressStyleModel",
            "_view_count": null,
            "_view_module": "@jupyter-widgets/base",
            "_view_module_version": "1.2.0",
            "_view_name": "StyleView",
            "bar_color": null,
            "description_width": ""
          }
        },
        "364217fea7bc4d2797260d1fe8db3cd2": {
          "model_module": "@jupyter-widgets/base",
          "model_name": "LayoutModel",
          "model_module_version": "1.2.0",
          "state": {
            "_model_module": "@jupyter-widgets/base",
            "_model_module_version": "1.2.0",
            "_model_name": "LayoutModel",
            "_view_count": null,
            "_view_module": "@jupyter-widgets/base",
            "_view_module_version": "1.2.0",
            "_view_name": "LayoutView",
            "align_content": null,
            "align_items": null,
            "align_self": null,
            "border": null,
            "bottom": null,
            "display": null,
            "flex": null,
            "flex_flow": null,
            "grid_area": null,
            "grid_auto_columns": null,
            "grid_auto_flow": null,
            "grid_auto_rows": null,
            "grid_column": null,
            "grid_gap": null,
            "grid_row": null,
            "grid_template_areas": null,
            "grid_template_columns": null,
            "grid_template_rows": null,
            "height": null,
            "justify_content": null,
            "justify_items": null,
            "left": null,
            "margin": null,
            "max_height": null,
            "max_width": null,
            "min_height": null,
            "min_width": null,
            "object_fit": null,
            "object_position": null,
            "order": null,
            "overflow": null,
            "overflow_x": null,
            "overflow_y": null,
            "padding": null,
            "right": null,
            "top": null,
            "visibility": null,
            "width": null
          }
        },
        "18658ae813834272a40b03ca32740ff4": {
          "model_module": "@jupyter-widgets/controls",
          "model_name": "DescriptionStyleModel",
          "model_module_version": "1.5.0",
          "state": {
            "_model_module": "@jupyter-widgets/controls",
            "_model_module_version": "1.5.0",
            "_model_name": "DescriptionStyleModel",
            "_view_count": null,
            "_view_module": "@jupyter-widgets/base",
            "_view_module_version": "1.2.0",
            "_view_name": "StyleView",
            "description_width": ""
          }
        },
        "bc4bed88ca3146e5b31eeebbbfe54693": {
          "model_module": "@jupyter-widgets/controls",
          "model_name": "HBoxModel",
          "model_module_version": "1.5.0",
          "state": {
            "_dom_classes": [],
            "_model_module": "@jupyter-widgets/controls",
            "_model_module_version": "1.5.0",
            "_model_name": "HBoxModel",
            "_view_count": null,
            "_view_module": "@jupyter-widgets/controls",
            "_view_module_version": "1.5.0",
            "_view_name": "HBoxView",
            "box_style": "",
            "children": [
              "IPY_MODEL_813d55e8b98f4004bb8c4bdab5d41db7",
              "IPY_MODEL_f3f3f10bfff7423880865bd4f813aebf",
              "IPY_MODEL_90ab169f2dfb4c11bfa835d2caa90b13"
            ],
            "layout": "IPY_MODEL_b0bc58cc97774e4d9d256c03df615298"
          }
        },
        "813d55e8b98f4004bb8c4bdab5d41db7": {
          "model_module": "@jupyter-widgets/controls",
          "model_name": "HTMLModel",
          "model_module_version": "1.5.0",
          "state": {
            "_dom_classes": [],
            "_model_module": "@jupyter-widgets/controls",
            "_model_module_version": "1.5.0",
            "_model_name": "HTMLModel",
            "_view_count": null,
            "_view_module": "@jupyter-widgets/controls",
            "_view_module_version": "1.5.0",
            "_view_name": "HTMLView",
            "description": "",
            "description_tooltip": null,
            "layout": "IPY_MODEL_e9dbed4186c4467d902db34d0a3ec009",
            "placeholder": "​",
            "style": "IPY_MODEL_c87d8d6de4374f49a08b90d3edb9a159",
            "value": "merges.txt: 100%"
          }
        },
        "f3f3f10bfff7423880865bd4f813aebf": {
          "model_module": "@jupyter-widgets/controls",
          "model_name": "FloatProgressModel",
          "model_module_version": "1.5.0",
          "state": {
            "_dom_classes": [],
            "_model_module": "@jupyter-widgets/controls",
            "_model_module_version": "1.5.0",
            "_model_name": "FloatProgressModel",
            "_view_count": null,
            "_view_module": "@jupyter-widgets/controls",
            "_view_module_version": "1.5.0",
            "_view_name": "ProgressView",
            "bar_style": "success",
            "description": "",
            "description_tooltip": null,
            "layout": "IPY_MODEL_a14a92c918674b149c1a1444798448a9",
            "max": 1671839,
            "min": 0,
            "orientation": "horizontal",
            "style": "IPY_MODEL_4851c95074ab499b8d6e661fb8cfd028",
            "value": 1671839
          }
        },
        "90ab169f2dfb4c11bfa835d2caa90b13": {
          "model_module": "@jupyter-widgets/controls",
          "model_name": "HTMLModel",
          "model_module_version": "1.5.0",
          "state": {
            "_dom_classes": [],
            "_model_module": "@jupyter-widgets/controls",
            "_model_module_version": "1.5.0",
            "_model_name": "HTMLModel",
            "_view_count": null,
            "_view_module": "@jupyter-widgets/controls",
            "_view_module_version": "1.5.0",
            "_view_name": "HTMLView",
            "description": "",
            "description_tooltip": null,
            "layout": "IPY_MODEL_52f1641b98524953a91fb5dc5fb76714",
            "placeholder": "​",
            "style": "IPY_MODEL_49529707dde04b9092890473b6cce2d4",
            "value": " 1.67M/1.67M [00:00&lt;00:00, 8.28MB/s]"
          }
        },
        "b0bc58cc97774e4d9d256c03df615298": {
          "model_module": "@jupyter-widgets/base",
          "model_name": "LayoutModel",
          "model_module_version": "1.2.0",
          "state": {
            "_model_module": "@jupyter-widgets/base",
            "_model_module_version": "1.2.0",
            "_model_name": "LayoutModel",
            "_view_count": null,
            "_view_module": "@jupyter-widgets/base",
            "_view_module_version": "1.2.0",
            "_view_name": "LayoutView",
            "align_content": null,
            "align_items": null,
            "align_self": null,
            "border": null,
            "bottom": null,
            "display": null,
            "flex": null,
            "flex_flow": null,
            "grid_area": null,
            "grid_auto_columns": null,
            "grid_auto_flow": null,
            "grid_auto_rows": null,
            "grid_column": null,
            "grid_gap": null,
            "grid_row": null,
            "grid_template_areas": null,
            "grid_template_columns": null,
            "grid_template_rows": null,
            "height": null,
            "justify_content": null,
            "justify_items": null,
            "left": null,
            "margin": null,
            "max_height": null,
            "max_width": null,
            "min_height": null,
            "min_width": null,
            "object_fit": null,
            "object_position": null,
            "order": null,
            "overflow": null,
            "overflow_x": null,
            "overflow_y": null,
            "padding": null,
            "right": null,
            "top": null,
            "visibility": null,
            "width": null
          }
        },
        "e9dbed4186c4467d902db34d0a3ec009": {
          "model_module": "@jupyter-widgets/base",
          "model_name": "LayoutModel",
          "model_module_version": "1.2.0",
          "state": {
            "_model_module": "@jupyter-widgets/base",
            "_model_module_version": "1.2.0",
            "_model_name": "LayoutModel",
            "_view_count": null,
            "_view_module": "@jupyter-widgets/base",
            "_view_module_version": "1.2.0",
            "_view_name": "LayoutView",
            "align_content": null,
            "align_items": null,
            "align_self": null,
            "border": null,
            "bottom": null,
            "display": null,
            "flex": null,
            "flex_flow": null,
            "grid_area": null,
            "grid_auto_columns": null,
            "grid_auto_flow": null,
            "grid_auto_rows": null,
            "grid_column": null,
            "grid_gap": null,
            "grid_row": null,
            "grid_template_areas": null,
            "grid_template_columns": null,
            "grid_template_rows": null,
            "height": null,
            "justify_content": null,
            "justify_items": null,
            "left": null,
            "margin": null,
            "max_height": null,
            "max_width": null,
            "min_height": null,
            "min_width": null,
            "object_fit": null,
            "object_position": null,
            "order": null,
            "overflow": null,
            "overflow_x": null,
            "overflow_y": null,
            "padding": null,
            "right": null,
            "top": null,
            "visibility": null,
            "width": null
          }
        },
        "c87d8d6de4374f49a08b90d3edb9a159": {
          "model_module": "@jupyter-widgets/controls",
          "model_name": "DescriptionStyleModel",
          "model_module_version": "1.5.0",
          "state": {
            "_model_module": "@jupyter-widgets/controls",
            "_model_module_version": "1.5.0",
            "_model_name": "DescriptionStyleModel",
            "_view_count": null,
            "_view_module": "@jupyter-widgets/base",
            "_view_module_version": "1.2.0",
            "_view_name": "StyleView",
            "description_width": ""
          }
        },
        "a14a92c918674b149c1a1444798448a9": {
          "model_module": "@jupyter-widgets/base",
          "model_name": "LayoutModel",
          "model_module_version": "1.2.0",
          "state": {
            "_model_module": "@jupyter-widgets/base",
            "_model_module_version": "1.2.0",
            "_model_name": "LayoutModel",
            "_view_count": null,
            "_view_module": "@jupyter-widgets/base",
            "_view_module_version": "1.2.0",
            "_view_name": "LayoutView",
            "align_content": null,
            "align_items": null,
            "align_self": null,
            "border": null,
            "bottom": null,
            "display": null,
            "flex": null,
            "flex_flow": null,
            "grid_area": null,
            "grid_auto_columns": null,
            "grid_auto_flow": null,
            "grid_auto_rows": null,
            "grid_column": null,
            "grid_gap": null,
            "grid_row": null,
            "grid_template_areas": null,
            "grid_template_columns": null,
            "grid_template_rows": null,
            "height": null,
            "justify_content": null,
            "justify_items": null,
            "left": null,
            "margin": null,
            "max_height": null,
            "max_width": null,
            "min_height": null,
            "min_width": null,
            "object_fit": null,
            "object_position": null,
            "order": null,
            "overflow": null,
            "overflow_x": null,
            "overflow_y": null,
            "padding": null,
            "right": null,
            "top": null,
            "visibility": null,
            "width": null
          }
        },
        "4851c95074ab499b8d6e661fb8cfd028": {
          "model_module": "@jupyter-widgets/controls",
          "model_name": "ProgressStyleModel",
          "model_module_version": "1.5.0",
          "state": {
            "_model_module": "@jupyter-widgets/controls",
            "_model_module_version": "1.5.0",
            "_model_name": "ProgressStyleModel",
            "_view_count": null,
            "_view_module": "@jupyter-widgets/base",
            "_view_module_version": "1.2.0",
            "_view_name": "StyleView",
            "bar_color": null,
            "description_width": ""
          }
        },
        "52f1641b98524953a91fb5dc5fb76714": {
          "model_module": "@jupyter-widgets/base",
          "model_name": "LayoutModel",
          "model_module_version": "1.2.0",
          "state": {
            "_model_module": "@jupyter-widgets/base",
            "_model_module_version": "1.2.0",
            "_model_name": "LayoutModel",
            "_view_count": null,
            "_view_module": "@jupyter-widgets/base",
            "_view_module_version": "1.2.0",
            "_view_name": "LayoutView",
            "align_content": null,
            "align_items": null,
            "align_self": null,
            "border": null,
            "bottom": null,
            "display": null,
            "flex": null,
            "flex_flow": null,
            "grid_area": null,
            "grid_auto_columns": null,
            "grid_auto_flow": null,
            "grid_auto_rows": null,
            "grid_column": null,
            "grid_gap": null,
            "grid_row": null,
            "grid_template_areas": null,
            "grid_template_columns": null,
            "grid_template_rows": null,
            "height": null,
            "justify_content": null,
            "justify_items": null,
            "left": null,
            "margin": null,
            "max_height": null,
            "max_width": null,
            "min_height": null,
            "min_width": null,
            "object_fit": null,
            "object_position": null,
            "order": null,
            "overflow": null,
            "overflow_x": null,
            "overflow_y": null,
            "padding": null,
            "right": null,
            "top": null,
            "visibility": null,
            "width": null
          }
        },
        "49529707dde04b9092890473b6cce2d4": {
          "model_module": "@jupyter-widgets/controls",
          "model_name": "DescriptionStyleModel",
          "model_module_version": "1.5.0",
          "state": {
            "_model_module": "@jupyter-widgets/controls",
            "_model_module_version": "1.5.0",
            "_model_name": "DescriptionStyleModel",
            "_view_count": null,
            "_view_module": "@jupyter-widgets/base",
            "_view_module_version": "1.2.0",
            "_view_name": "StyleView",
            "description_width": ""
          }
        },
        "b750bbd0d4434492aeafd0effc7e52e1": {
          "model_module": "@jupyter-widgets/controls",
          "model_name": "HBoxModel",
          "model_module_version": "1.5.0",
          "state": {
            "_dom_classes": [],
            "_model_module": "@jupyter-widgets/controls",
            "_model_module_version": "1.5.0",
            "_model_name": "HBoxModel",
            "_view_count": null,
            "_view_module": "@jupyter-widgets/controls",
            "_view_module_version": "1.5.0",
            "_view_name": "HBoxView",
            "box_style": "",
            "children": [
              "IPY_MODEL_df1648e7f35b41e79d6db897af5b6634",
              "IPY_MODEL_a5c621c0eb664290925f4ae65fb49814",
              "IPY_MODEL_bf181cbc67064165a6202ec8e60f87dc"
            ],
            "layout": "IPY_MODEL_9fcbacc9db9548f88e9ee65515d97789"
          }
        },
        "df1648e7f35b41e79d6db897af5b6634": {
          "model_module": "@jupyter-widgets/controls",
          "model_name": "HTMLModel",
          "model_module_version": "1.5.0",
          "state": {
            "_dom_classes": [],
            "_model_module": "@jupyter-widgets/controls",
            "_model_module_version": "1.5.0",
            "_model_name": "HTMLModel",
            "_view_count": null,
            "_view_module": "@jupyter-widgets/controls",
            "_view_module_version": "1.5.0",
            "_view_name": "HTMLView",
            "description": "",
            "description_tooltip": null,
            "layout": "IPY_MODEL_440e96b0c3da4e5c977b0157957d46c4",
            "placeholder": "​",
            "style": "IPY_MODEL_3ec3aae1f91d42a9b7f7348369dea133",
            "value": "tokenizer.json: 100%"
          }
        },
        "a5c621c0eb664290925f4ae65fb49814": {
          "model_module": "@jupyter-widgets/controls",
          "model_name": "FloatProgressModel",
          "model_module_version": "1.5.0",
          "state": {
            "_dom_classes": [],
            "_model_module": "@jupyter-widgets/controls",
            "_model_module_version": "1.5.0",
            "_model_name": "FloatProgressModel",
            "_view_count": null,
            "_view_module": "@jupyter-widgets/controls",
            "_view_module_version": "1.5.0",
            "_view_name": "ProgressView",
            "bar_style": "success",
            "description": "",
            "description_tooltip": null,
            "layout": "IPY_MODEL_4faa10a3777f44e38c42e96d5781aa9c",
            "max": 7028015,
            "min": 0,
            "orientation": "horizontal",
            "style": "IPY_MODEL_7c5ac2dde2b04ba6a29ad7dae60117f3",
            "value": 7028015
          }
        },
        "bf181cbc67064165a6202ec8e60f87dc": {
          "model_module": "@jupyter-widgets/controls",
          "model_name": "HTMLModel",
          "model_module_version": "1.5.0",
          "state": {
            "_dom_classes": [],
            "_model_module": "@jupyter-widgets/controls",
            "_model_module_version": "1.5.0",
            "_model_name": "HTMLModel",
            "_view_count": null,
            "_view_module": "@jupyter-widgets/controls",
            "_view_module_version": "1.5.0",
            "_view_name": "HTMLView",
            "description": "",
            "description_tooltip": null,
            "layout": "IPY_MODEL_c68312bd0fa94ea785a14716c165d256",
            "placeholder": "​",
            "style": "IPY_MODEL_a849ffa045ad431baec8655f43dcca65",
            "value": " 7.03M/7.03M [00:00&lt;00:00, 15.5MB/s]"
          }
        },
        "9fcbacc9db9548f88e9ee65515d97789": {
          "model_module": "@jupyter-widgets/base",
          "model_name": "LayoutModel",
          "model_module_version": "1.2.0",
          "state": {
            "_model_module": "@jupyter-widgets/base",
            "_model_module_version": "1.2.0",
            "_model_name": "LayoutModel",
            "_view_count": null,
            "_view_module": "@jupyter-widgets/base",
            "_view_module_version": "1.2.0",
            "_view_name": "LayoutView",
            "align_content": null,
            "align_items": null,
            "align_self": null,
            "border": null,
            "bottom": null,
            "display": null,
            "flex": null,
            "flex_flow": null,
            "grid_area": null,
            "grid_auto_columns": null,
            "grid_auto_flow": null,
            "grid_auto_rows": null,
            "grid_column": null,
            "grid_gap": null,
            "grid_row": null,
            "grid_template_areas": null,
            "grid_template_columns": null,
            "grid_template_rows": null,
            "height": null,
            "justify_content": null,
            "justify_items": null,
            "left": null,
            "margin": null,
            "max_height": null,
            "max_width": null,
            "min_height": null,
            "min_width": null,
            "object_fit": null,
            "object_position": null,
            "order": null,
            "overflow": null,
            "overflow_x": null,
            "overflow_y": null,
            "padding": null,
            "right": null,
            "top": null,
            "visibility": null,
            "width": null
          }
        },
        "440e96b0c3da4e5c977b0157957d46c4": {
          "model_module": "@jupyter-widgets/base",
          "model_name": "LayoutModel",
          "model_module_version": "1.2.0",
          "state": {
            "_model_module": "@jupyter-widgets/base",
            "_model_module_version": "1.2.0",
            "_model_name": "LayoutModel",
            "_view_count": null,
            "_view_module": "@jupyter-widgets/base",
            "_view_module_version": "1.2.0",
            "_view_name": "LayoutView",
            "align_content": null,
            "align_items": null,
            "align_self": null,
            "border": null,
            "bottom": null,
            "display": null,
            "flex": null,
            "flex_flow": null,
            "grid_area": null,
            "grid_auto_columns": null,
            "grid_auto_flow": null,
            "grid_auto_rows": null,
            "grid_column": null,
            "grid_gap": null,
            "grid_row": null,
            "grid_template_areas": null,
            "grid_template_columns": null,
            "grid_template_rows": null,
            "height": null,
            "justify_content": null,
            "justify_items": null,
            "left": null,
            "margin": null,
            "max_height": null,
            "max_width": null,
            "min_height": null,
            "min_width": null,
            "object_fit": null,
            "object_position": null,
            "order": null,
            "overflow": null,
            "overflow_x": null,
            "overflow_y": null,
            "padding": null,
            "right": null,
            "top": null,
            "visibility": null,
            "width": null
          }
        },
        "3ec3aae1f91d42a9b7f7348369dea133": {
          "model_module": "@jupyter-widgets/controls",
          "model_name": "DescriptionStyleModel",
          "model_module_version": "1.5.0",
          "state": {
            "_model_module": "@jupyter-widgets/controls",
            "_model_module_version": "1.5.0",
            "_model_name": "DescriptionStyleModel",
            "_view_count": null,
            "_view_module": "@jupyter-widgets/base",
            "_view_module_version": "1.2.0",
            "_view_name": "StyleView",
            "description_width": ""
          }
        },
        "4faa10a3777f44e38c42e96d5781aa9c": {
          "model_module": "@jupyter-widgets/base",
          "model_name": "LayoutModel",
          "model_module_version": "1.2.0",
          "state": {
            "_model_module": "@jupyter-widgets/base",
            "_model_module_version": "1.2.0",
            "_model_name": "LayoutModel",
            "_view_count": null,
            "_view_module": "@jupyter-widgets/base",
            "_view_module_version": "1.2.0",
            "_view_name": "LayoutView",
            "align_content": null,
            "align_items": null,
            "align_self": null,
            "border": null,
            "bottom": null,
            "display": null,
            "flex": null,
            "flex_flow": null,
            "grid_area": null,
            "grid_auto_columns": null,
            "grid_auto_flow": null,
            "grid_auto_rows": null,
            "grid_column": null,
            "grid_gap": null,
            "grid_row": null,
            "grid_template_areas": null,
            "grid_template_columns": null,
            "grid_template_rows": null,
            "height": null,
            "justify_content": null,
            "justify_items": null,
            "left": null,
            "margin": null,
            "max_height": null,
            "max_width": null,
            "min_height": null,
            "min_width": null,
            "object_fit": null,
            "object_position": null,
            "order": null,
            "overflow": null,
            "overflow_x": null,
            "overflow_y": null,
            "padding": null,
            "right": null,
            "top": null,
            "visibility": null,
            "width": null
          }
        },
        "7c5ac2dde2b04ba6a29ad7dae60117f3": {
          "model_module": "@jupyter-widgets/controls",
          "model_name": "ProgressStyleModel",
          "model_module_version": "1.5.0",
          "state": {
            "_model_module": "@jupyter-widgets/controls",
            "_model_module_version": "1.5.0",
            "_model_name": "ProgressStyleModel",
            "_view_count": null,
            "_view_module": "@jupyter-widgets/base",
            "_view_module_version": "1.2.0",
            "_view_name": "StyleView",
            "bar_color": null,
            "description_width": ""
          }
        },
        "c68312bd0fa94ea785a14716c165d256": {
          "model_module": "@jupyter-widgets/base",
          "model_name": "LayoutModel",
          "model_module_version": "1.2.0",
          "state": {
            "_model_module": "@jupyter-widgets/base",
            "_model_module_version": "1.2.0",
            "_model_name": "LayoutModel",
            "_view_count": null,
            "_view_module": "@jupyter-widgets/base",
            "_view_module_version": "1.2.0",
            "_view_name": "LayoutView",
            "align_content": null,
            "align_items": null,
            "align_self": null,
            "border": null,
            "bottom": null,
            "display": null,
            "flex": null,
            "flex_flow": null,
            "grid_area": null,
            "grid_auto_columns": null,
            "grid_auto_flow": null,
            "grid_auto_rows": null,
            "grid_column": null,
            "grid_gap": null,
            "grid_row": null,
            "grid_template_areas": null,
            "grid_template_columns": null,
            "grid_template_rows": null,
            "height": null,
            "justify_content": null,
            "justify_items": null,
            "left": null,
            "margin": null,
            "max_height": null,
            "max_width": null,
            "min_height": null,
            "min_width": null,
            "object_fit": null,
            "object_position": null,
            "order": null,
            "overflow": null,
            "overflow_x": null,
            "overflow_y": null,
            "padding": null,
            "right": null,
            "top": null,
            "visibility": null,
            "width": null
          }
        },
        "a849ffa045ad431baec8655f43dcca65": {
          "model_module": "@jupyter-widgets/controls",
          "model_name": "DescriptionStyleModel",
          "model_module_version": "1.5.0",
          "state": {
            "_model_module": "@jupyter-widgets/controls",
            "_model_module_version": "1.5.0",
            "_model_name": "DescriptionStyleModel",
            "_view_count": null,
            "_view_module": "@jupyter-widgets/base",
            "_view_module_version": "1.2.0",
            "_view_name": "StyleView",
            "description_width": ""
          }
        }
      }
    },
    "colab": {
      "provenance": [],
      "include_colab_link": true
    }
  },
  "nbformat": 4,
  "nbformat_minor": 0
}